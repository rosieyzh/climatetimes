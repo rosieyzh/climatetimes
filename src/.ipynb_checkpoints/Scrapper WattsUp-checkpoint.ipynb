{
 "cells": [
  {
   "cell_type": "code",
   "execution_count": 50,
   "metadata": {},
   "outputs": [],
   "source": [
    "import requests\n",
    "from bs4 import BeautifulSoup\n",
    "import pandas as pd\n",
    "import re\n",
    "import sys"
   ]
  },
  {
   "cell_type": "code",
   "execution_count": 56,
   "metadata": {},
   "outputs": [],
   "source": [
    "def get_links(result_link):\n",
    "    \"\"\"Gets all article links on a given page on a news site\"\"\"\n",
    "    links=[]\n",
    "    r = requests.get(result_link)\n",
    "    soup = BeautifulSoup(r.text, 'html.parser')\n",
    "    links_results = soup.findAll('h1', {\"class\":\"entry-title\"}) #Gets article link wrappers\n",
    "    \n",
    "    for result in links_results:\n",
    "        links.append(result.findAll('a')[0].get('href'))\n",
    "\n",
    "    return links\n",
    "\n",
    "def get_text(article_link):\n",
    "    \"\"\"Takes in a link to an article and returns the formatted article as text\"\"\"\n",
    "    article=\"\"\n",
    "    r = requests.get(article_link)\n",
    "    soup = BeautifulSoup(r.text, 'html.parser')\n",
    "    article_body = soup.find(class_='entry-content')\n",
    "\n",
    "#     print(article_body.findAll('p'))\n",
    "    for p in article_body.findAll('p'):\n",
    "        excerpt = p.text.replace(u'\\xa0', u' ')\n",
    "        article = article + \" \" + excerpt\n",
    "        \n",
    "    return article"
   ]
  },
  {
   "cell_type": "code",
   "execution_count": null,
   "metadata": {},
   "outputs": [
    {
     "name": "stdout",
     "output_type": "stream",
     "text": [
      "Page: 311, total articles: 3101"
     ]
    }
   ],
   "source": [
    "articles=[]\n",
    "MAX_PAGES = 401\n",
    "\n",
    "for i in range(1, MAX_PAGES):\n",
    "    sys.stdout.write(\"\\rPage: {}, total articles: {}\".format(i, len(articles)))\n",
    "    sys.stdout.flush()\n",
    "    \n",
    "    links = get_links('https://wattsupwiththat.com/page/{}/'.format(i))\n",
    "    \n",
    "    for link in links:\n",
    "        articles.append(get_text(link))    "
   ]
  }
 ],
 "metadata": {
  "kernelspec": {
   "display_name": "Python 3",
   "language": "python",
   "name": "python3"
  },
  "language_info": {
   "codemirror_mode": {
    "name": "ipython",
    "version": 3
   },
   "file_extension": ".py",
   "mimetype": "text/x-python",
   "name": "python",
   "nbconvert_exporter": "python",
   "pygments_lexer": "ipython3",
   "version": "3.7.3"
  }
 },
 "nbformat": 4,
 "nbformat_minor": 2
}
