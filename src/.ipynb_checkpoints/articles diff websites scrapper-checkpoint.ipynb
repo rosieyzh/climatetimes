{
 "cells": [
  {
   "cell_type": "code",
   "execution_count": 96,
   "metadata": {},
   "outputs": [],
   "source": [
    "\"\"\" This scraper was used to scrape articles gathered from the Unep website.\n",
    "The articles are from the past year or so.\n",
    "\"\"\"\n",
    "\n",
    "from newspaper import Article\n",
    "import pandas as pd\n",
    "import re"
   ]
  },
  {
   "cell_type": "code",
   "execution_count": 97,
   "metadata": {},
   "outputs": [],
   "source": [
    "def get_text(article_url):\n",
    "    \"\"\"Takes in a link to an article and returns the formatted article as text\"\"\"\n",
    "    article = Article(article_url)\n",
    "    article.download()\n",
    "    article.parse()\n",
    "        \n",
    "    return article.text"
   ]
  },
  {
   "cell_type": "code",
   "execution_count": 98,
   "metadata": {},
   "outputs": [],
   "source": [
    "# a = get_text('https://uk.reuters.com/article/us-fashion-london-idUKKCN1Q41WK')\n",
    "# print(a)\n",
    "articles = []\n",
    "\n",
    "df = pd.read_csv('unep_article_urls.csv')\n",
    "urls = df['article urls']\n",
    "\n",
    "for url in urls:\n",
    "    try:\n",
    "        articles.append(get_text(url.rstrip()))\n",
    "    except:\n",
    "        pass    \n",
    "    "
   ]
  },
  {
   "cell_type": "code",
   "execution_count": 103,
   "metadata": {},
   "outputs": [],
   "source": [
    "articles_df = pd.DataFrame(articles, columns=['articles'])"
   ]
  },
  {
   "cell_type": "code",
   "execution_count": 127,
   "metadata": {},
   "outputs": [],
   "source": [
    "articles_df.to_csv('unep_articles.csv', index=False)"
   ]
  },
  {
   "cell_type": "code",
   "execution_count": 125,
   "metadata": {},
   "outputs": [
    {
     "name": "stdout",
     "output_type": "stream",
     "text": [
      "A 0\n",
      "\n",
      "A +2\n",
      "\n",
      "A +4\n",
      "\n",
      "A +6\n",
      "\n",
      "The subject who is truly loyal to the Chief Magistrate will neither advise nor submit to arbitrary measures.\n"
     ]
    }
   ],
   "source": []
  }
 ],
 "metadata": {
  "kernelspec": {
   "display_name": "Python 3",
   "language": "python",
   "name": "python3"
  },
  "language_info": {
   "codemirror_mode": {
    "name": "ipython",
    "version": 3
   },
   "file_extension": ".py",
   "mimetype": "text/x-python",
   "name": "python",
   "nbconvert_exporter": "python",
   "pygments_lexer": "ipython3",
   "version": "3.7.3"
  }
 },
 "nbformat": 4,
 "nbformat_minor": 2
}
