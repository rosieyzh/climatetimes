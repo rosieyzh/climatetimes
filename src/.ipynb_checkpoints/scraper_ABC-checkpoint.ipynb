{
 "cells": [
  {
   "cell_type": "code",
   "execution_count": 1,
   "metadata": {},
   "outputs": [],
   "source": [
    "import requests\n",
    "from bs4 import BeautifulSoup\n",
    "import pandas as pd\n",
    "import re"
   ]
  },
  {
   "cell_type": "code",
   "execution_count": 15,
   "metadata": {},
   "outputs": [],
   "source": [
    "r = requests.get(\"https://abcnews.go.com/alerts/climate-change\")\n",
    "soup_links = BeautifulSoup(r.text, 'html.parser')\n",
    "links_results = soup_links.findAll('a', {\"class\":\"colors__hoverBlack--3n67Z\"})\n",
    "\n",
    "links=[]\n",
    "for result in links_results:\n",
    "    links.append(result['href'])\n",
    "    \n",
    "links = links[18:]"
   ]
  },
  {
   "cell_type": "code",
   "execution_count": 17,
   "metadata": {},
   "outputs": [],
   "source": [
    "abc_articles=[]\n",
    "\n",
    "for link in links:\n",
    "    sample=requests.get(link)\n",
    "    soup = BeautifulSoup(sample.text, 'html.parser')\n",
    "    articleBody = soup.findAll('p', itemprop=\"articleBody\")\n",
    "    s=\"\"\n",
    "    for t in articleBody:\n",
    "        s+=t.text\n",
    "    abc_articles.append(s)"
   ]
  },
  {
   "cell_type": "code",
   "execution_count": 18,
   "metadata": {},
   "outputs": [
    {
     "data": {
      "text/plain": [
       "['\\nGermany says it plans to take a more active role in Arctic affairs, citing the far north\\'s growing ecological, political and economic significance as a result of climate change.\\nCabinet passed a resolution Wednesday declaring its intention to send German experts to advise the Arctic Council. It also plans to campaign for an expansion of environmental protection areas in the Arctic and explore the potential that the increasingly ice-free Northwest and Northern Passages have for shipping during the summer.\\nGerman Chancellor Angela Merkel said Tuesday after a meeting with Nordic leaders that her country, which is an observer in the Arctic Council, will \"keep an eye on the strategic role of the Arctic.\"\\nMerkel said Germany would seek to prevent the Arctic from becoming \"an object of ruthless exploitation and natural destruction.\"',\n",
       " '\\nGermany says it plans to take a more active role in Arctic affairs, citing the far north\\'s growing ecological, political and economic significance as a result of climate change.\\nCabinet passed a resolution Wednesday declaring its intention to send German experts to advise the Arctic Council. It also plans to campaign for an expansion of environmental protection areas in the Arctic and explore the potential that the increasingly ice-free Northwest and Northern Passages have for shipping during the summer.\\nGerman Chancellor Angela Merkel said Tuesday after a meeting with Nordic leaders that her country, which is an observer in the Arctic Council, will \"keep an eye on the strategic role of the Arctic.\"\\nMerkel said Germany would seek to prevent the Arctic from becoming \"an object of ruthless exploitation and natural destruction.\"',\n",
       " '\\nGermany says it plans to take a more active role in Arctic affairs, citing the far north\\'s growing ecological, political and economic significance as a result of climate change.\\nCabinet passed a resolution Wednesday declaring its intention to send German experts to advise the Arctic Council. It also plans to campaign for an expansion of environmental protection areas in the Arctic and explore the potential that the increasingly ice-free Northwest and Northern Passages have for shipping during the summer.\\nGerman Chancellor Angela Merkel said Tuesday after a meeting with Nordic leaders that her country, which is an observer in the Arctic Council, will \"keep an eye on the strategic role of the Arctic.\"\\nMerkel said Germany would seek to prevent the Arctic from becoming \"an object of ruthless exploitation and natural destruction.\"',\n",
       " '\\nGermany says it plans to take a more active role in Arctic affairs, citing the far north\\'s growing ecological, political and economic significance as a result of climate change.\\nCabinet passed a resolution Wednesday declaring its intention to send German experts to advise the Arctic Council. It also plans to campaign for an expansion of environmental protection areas in the Arctic and explore the potential that the increasingly ice-free Northwest and Northern Passages have for shipping during the summer.\\nGerman Chancellor Angela Merkel said Tuesday after a meeting with Nordic leaders that her country, which is an observer in the Arctic Council, will \"keep an eye on the strategic role of the Arctic.\"\\nMerkel said Germany would seek to prevent the Arctic from becoming \"an object of ruthless exploitation and natural destruction.\"',\n",
       " '\\nGermany says it plans to take a more active role in Arctic affairs, citing the far north\\'s growing ecological, political and economic significance as a result of climate change.\\nCabinet passed a resolution Wednesday declaring its intention to send German experts to advise the Arctic Council. It also plans to campaign for an expansion of environmental protection areas in the Arctic and explore the potential that the increasingly ice-free Northwest and Northern Passages have for shipping during the summer.\\nGerman Chancellor Angela Merkel said Tuesday after a meeting with Nordic leaders that her country, which is an observer in the Arctic Council, will \"keep an eye on the strategic role of the Arctic.\"\\nMerkel said Germany would seek to prevent the Arctic from becoming \"an object of ruthless exploitation and natural destruction.\"']"
      ]
     },
     "execution_count": 18,
     "metadata": {},
     "output_type": "execute_result"
    }
   ],
   "source": [
    "abc_articles[5:10]"
   ]
  },
  {
   "cell_type": "code",
   "execution_count": 11,
   "metadata": {},
   "outputs": [],
   "source": []
  },
  {
   "cell_type": "code",
   "execution_count": 12,
   "metadata": {},
   "outputs": [],
   "source": [
    "links=[]\n",
    "for result in links_results:\n",
    "    links.append(result['href'])"
   ]
  },
  {
   "cell_type": "code",
   "execution_count": 14,
   "metadata": {},
   "outputs": [
    {
     "data": {
      "text/plain": [
       "['https://abcnews.go.com/International/wireStory/germany-seeks-active-role-arctic-amid-climate-change-65092802',\n",
       " 'https://abcnews.go.com/Technology/wireStory/funeral-lost-ice-iceland-bids-farewell-glacier-65045010',\n",
       " 'https://abcnews.go.com/Technology/wireStory/alaska-records-warmest-month-future-records-65032752',\n",
       " 'https://abcnews.go.com/US/july-hottest-month-recorded-earth-140-years/story?id=64994076',\n",
       " 'https://abcnews.go.com/International/video/climate-change-activist-greta-thunberg-16-travels-summit-64971597',\n",
       " 'https://abcnews.go.com/US/carbon-dioxide-atmosphere-rose-levels-planet-800000-years/story?id=64929815',\n",
       " 'https://abcnews.go.com/Politics/video/2020-presidential-candidates-climate-change-issue-64933611',\n",
       " 'https://abcnews.go.com/ThisWeek/video/wrong-thinking-trump-climate-change-gore-64908477',\n",
       " 'https://abcnews.go.com/Politics/climate-change-worse-faster-mobilizing-solve-al-gore/story?id=64862944',\n",
       " 'https://abcnews.go.com/US/video/food-shortages-occur-worldwide-climate-change-continues-report-64866196',\n",
       " 'https://abcnews.go.com/Politics/overhaul-global-diets-food-systems-needed-combat-climate/story?id=64852679',\n",
       " 'https://abcnews.go.com/US/video/report-states-climate-change-impact-global-food-systems-64864350',\n",
       " 'https://abcnews.go.com/Technology/wireStory/warming-report-sees-hungry-future-avoided-64848363',\n",
       " 'https://abcnews.go.com/Politics/release-report-detailing-climate-change-impacts-land-food/story?id=64836278',\n",
       " 'https://abcnews.go.com/International/17-countries-home-25-worlds-population-facing-water/story?id=64827506',\n",
       " 'https://abcnews.go.com/Technology/wireStory/global-warming-brings-wildfire-risk-rainy-us-northwest-64767818',\n",
       " 'https://abcnews.go.com/Politics/amid-historic-heat-greenland-ice-sheet-loses-11/story?id=64737944',\n",
       " 'https://abcnews.go.com/Technology/irish-teen-invents-method-remove-microplastics-ocean-wins/story?id=64731771',\n",
       " 'https://abcnews.go.com/Technology/video/irish-teen-invents-method-remove-microplastics-ocean-64743547',\n",
       " 'https://abcnews.go.com/Travel/wireStory/plastic-bottles-sales-banned-san-francisco-airport-64743152',\n",
       " 'https://abcnews.go.com/International/wireStory/scientists-link-europe-heat-wave-man-made-global-64728802',\n",
       " 'https://abcnews.go.com/Travel/wireStory/walloped-heat-wave-greenland-sees-massive-ice-melt-64708833',\n",
       " 'https://abcnews.go.com/Technology/wireStory/scientists-10-warmest-uk-years-2002-64675368',\n",
       " 'https://abcnews.go.com/Technology/wireStory/sailing-america-teen-bring-climate-activism-us-64627695',\n",
       " 'https://abcnews.go.com/US/video/cross-country-athlete-run-13-states-month-trek-64590581',\n",
       " 'https://abcnews.go.com/Lifestyle/wireStory/latest-uk-travelers-face-chaos-hot-spell-64583291',\n",
       " 'https://abcnews.go.com/WNT/video/satellite-images-show-wildfires-burning-parts-arctic-64520537',\n",
       " 'https://abcnews.go.com/International/researchers-commemorate-dead-glacier-plaque-memorial-service-iceland/story?id=64507718',\n",
       " 'https://abcnews.go.com/Politics/wireStory/climate-change-forum-loses-sponsor-dispute-story-64318537',\n",
       " 'https://abcnews.go.com/International/wireStory/bahrain-records-hottest-june-100-years-64210422',\n",
       " 'https://abcnews.go.com/Politics/wireStory/oregon-governor-ready-lead-divisive-climate-plan-64069863',\n",
       " 'https://abcnews.go.com/Technology/wireStory/floating-antarctic-ice-record-high-record-lows-64069771',\n",
       " 'https://abcnews.go.com/International/wireStory/chief-warns-paris-climate-goals-64047151',\n",
       " 'https://abcnews.go.com/Politics/wireStory/oregon-senate-republicans-end-walkout-carbon-bill-64037995',\n",
       " 'https://abcnews.go.com/Politics/sign-oregon-republicans-walked-amid-climate-change-vote/story?id=63957998',\n",
       " 'https://abcnews.go.com/Politics/video/oregon-state-police-called-bring-republican-senators-back-63912136',\n",
       " 'https://abcnews.go.com/US/oregons-republican-state-senators-hiding-democrats-delay-climate/story?id=63880562',\n",
       " 'https://www.goodmorningamerica.com/news/video/senate-republicans-protest-climate-change-bill-oregon-63891277',\n",
       " 'https://abcnews.go.com/Politics/wireStory/climate-protesters-storm-open-pit-mine-western-germany-63884749',\n",
       " 'https://www.goodmorningamerica.com/news/video/honeybee-population-drops-alarming-rate-63880425',\n",
       " 'https://abcnews.go.com/Technology/wireStory/study-lethal-plastic-trash-now-common-greeces-whales-63859140',\n",
       " 'https://abcnews.go.com/Lifestyle/wireStory/climate-guilt-flying-longer-high-road-63827820',\n",
       " 'https://abcnews.go.com/International/rapid-melting-greenland-ice-sheet-significant-contributor-rising/story?id=63784264',\n",
       " 'https://abcnews.go.com/Politics/epa-finalizes-power-plant-rules-replace-obamas-signature/story?id=63791842',\n",
       " 'https://abcnews.go.com/Health/war-plastic-study-shows-states-banned-plastic-bags/story?id=63529555',\n",
       " 'https://abcnews.go.com/Technology/wireStory/virginia-city-divest-budget-funds-fossil-fuels-63600668',\n",
       " 'https://abcnews.go.com/Technology/rising-methane-levels-thwarting-climate-change-efforts/story?id=63547851',\n",
       " 'https://abcnews.go.com/Politics/2020-democratic-candidates-move-left-progressive-climate-change/story?id=63489543',\n",
       " 'https://abcnews.go.com/Politics/smithsonian-open-fossil-exhibit-focus-climate-change/story?id=63482096',\n",
       " 'https://abcnews.go.com/Technology/wireStory/students-stage-die-climate-protest-german-parliament-63478418']"
      ]
     },
     "execution_count": 14,
     "metadata": {},
     "output_type": "execute_result"
    }
   ],
   "source": [
    "links[18:]"
   ]
  },
  {
   "cell_type": "code",
   "execution_count": null,
   "metadata": {},
   "outputs": [],
   "source": []
  }
 ],
 "metadata": {
  "kernelspec": {
   "display_name": "aiml",
   "language": "python",
   "name": "aiml"
  },
  "language_info": {
   "codemirror_mode": {
    "name": "ipython",
    "version": 3
   },
   "file_extension": ".py",
   "mimetype": "text/x-python",
   "name": "python",
   "nbconvert_exporter": "python",
   "pygments_lexer": "ipython3",
   "version": "3.7.3"
  }
 },
 "nbformat": 4,
 "nbformat_minor": 2
}
