{
 "cells": [
  {
   "cell_type": "code",
   "execution_count": 1,
   "metadata": {},
   "outputs": [],
   "source": [
    "import requests\n",
    "from bs4 import BeautifulSoup\n",
    "import pandas as pd\n",
    "import re"
   ]
  },
  {
   "cell_type": "code",
   "execution_count": 62,
   "metadata": {},
   "outputs": [],
   "source": [
    "def get_links(result_link):\n",
    "    links=[]\n",
    "    r = requests.get(result_link)\n",
    "    soup = BeautifulSoup(r.text, 'html.parser')  \n",
    "    article_results = soup.find(\"div\", {\"class\":\"col-8 nocontent\"})\n",
    "    for ana in article_results.findAll(\"a\"):\n",
    "        if ana.parent.name == \"article\":\n",
    "            links.append(ana['href'])\n",
    "    return links\n",
    "\n",
    "def get_text(article_link):\n",
    "    article=\"\"\n",
    "    r = requests.get(article_link)\n",
    "    soup = BeautifulSoup(r.text, 'html.parser')\n",
    "    for p in soup.findAll(\"p\"):\n",
    "        excerpt = \n",
    "        if r\"CBS Interactive Inc.(\\s)?All rights reserved.\" not in p.text:\n",
    "            article = article + \" \" + p.text\n",
    "    article = article.replace(u'\\xa0', u' ')\n",
    "    article = article.replace(r'Watch CBSN Live \\n.*\\n', '')\n",
    "    return article"
   ]
  },
  {
   "cell_type": "code",
   "execution_count": 63,
   "metadata": {},
   "outputs": [],
   "source": [
    "articles=[]\n",
    "for i in range(1, 2):\n",
    "    links = get_links(\"https://www.cbsnews.com/feature/climate-change/{}/\".format(i))\n",
    "    for link in links:\n",
    "        articles.append(get_text(link))\n",
    "        "
   ]
  },
  {
   "cell_type": "code",
   "execution_count": 64,
   "metadata": {},
   "outputs": [
    {
     "data": {
      "text/plain": [
       "25"
      ]
     },
     "execution_count": 64,
     "metadata": {},
     "output_type": "execute_result"
    }
   ],
   "source": [
    "len(articles)"
   ]
  },
  {
   "cell_type": "code",
   "execution_count": 65,
   "metadata": {},
   "outputs": [
    {
     "data": {
      "text/plain": [
       "' Watch CBSN Live \\n                  By Danielle Garrand\\n               \\nUpdated on:  August 21, 2019 / 5:57 PM\\n      / CBS News\\n     On Monday afternoon, the city of Sao Paulo, Brazil, went dark — but it wasn\\'t some strange cosmic event. Powerful winds carried the smoke from forest fires burning nearly 1,700 miles away, reported the BBC. Almost 73,000 fires have been detected by Brazil\\'s space research center INPE, according to Reuters. It\\'s a record number this year, the agency said. The smoke has traveled from the fires blazing in the Brazilian states of Rondônia and Amazonas and blackened the sky above the city for about an hour, the BBC added. \"It was as if the day had turned into night,\" resident Gianvitor Dias told the BBC. \"Everyone here commented, because even on rainy days it doesn\\'t usually get that dark. It was very impressive.\" And it wasn\\'t just the city\\'s residents who saw the smoke. NASA captured images of forest fire plumes from space last week.  More in Climate Change The agency posted satellite photos of multiple fires tearing through the Brazilian states of Amazonas, Rondônia, Pará and Mato Grosso dated August 11 and 13 of this year. Smoke appeared to blanket the states in the startling images. The agency stated fires are rare in the Amazon region for much of the year, as its wet weather keeps blazes at bay; fires do typically increase in July and August with the onset of the dry season. NASA explained \"activity\" peaks by early September and stops by mid-November.  NASA said the satellite observations revealed the \"total fire activity in the Amazon basin\" was slightly below average, compared to the past 15 years. The state of Amazonas declared a national emergency earlier this month due to the fires. It is the fourth most affected area in Brazil this summer, reports Euronews. The fires blaze as the concern for the future of the Amazon is high. Since taking office in January, Brazil\\'s right-wing President Jair Bolsonaro has been accused of harming the Amazon rainforest and indigenous peoples in order to benefit loggers, miners and farmers who helped get him elected. Bolsonaro, whose anti-environment rhetoric has included a pledge to end \"Shiite ecologist activism,\" has questioned the latest official figures showing deforestation increased 88% in June compared with the same period last year. He uses the word \"Shiite\" as a synonym for radicalism rather than denoting a branch of Islam. \\nFirst published on August 20, 2019 / 11:07 PM\\n \\n© 2019 CBS Interactive Inc. All Rights Reserved.\\n \\n        \"If you ask somebody whether they\\'d like their water with or without plastic, I doubt you\\'d get any answer other than, \\'hold the plastic, please!\\'\"\\n       \\n        The cosmic collision could be the first example of a black hole colliding with a neutron star — possibly offering new insights into the expansion of the universe\\n       \\n        Explorers on the first manned voyage in nearly 15 years were astonished by the famous ship\\'s rapid decay\\n       \\n        Fencer Race Imboden kneeled on the medal stand and hammer thrower Gwen Berry raised her fist during the national anthem and both face 12-month probation\\n       \\n        The new port will allow two U.S. commercial crew ships to dock at the space station at the same time\\n       \\n        ABC\\'s hit show \"Dancing with the Stars\" is about to get a lot spicier in its 28th season\\n       \\n        Health officials are now looking into more than 150 possible cases in 16 states\\n       \\n        Many who have their wisdom teeth removed are prescribed opioid painkillers – but there may be a better, safer option\\n       \\n        As states grapple with how to retain those willing to enter the profession, one official thinks he\\'s found a way to make working behind bars more attractive\\n       \\n        The White House hopes to upend a landmark court settlement that has governed the care of migrant children in U.S. custody for two decades\\n       \\n        The White House hopes to upend a landmark court settlement that has governed the care of migrant children in U.S. custody for two decades\\n       \\n        While President Trump blasts Jerome Powell for slowdown, Fed officials put the blame squarely on trade tensions\\n       \\n        John Kasich is planning a visit to New Hampshire next month, and Mark Sanford has also made a trip to the state\\n       \\n        And Mark Sanford, who\\'s considering a White House run, told CBS. \"If you look at a state like New Hampshire, there certainly is historic precedent for somebody getting in during this window of time\"\\n       \\n        In a tweet, Haley decried the \"false rumors\" that she would replace Pence on the 2020 ticket and called the vice president a \"dear friend\"\\n       \\n        ABC\\'s hit show \"Dancing with the Stars\" is about to get a lot spicier in its 28th season\\n       \\n        A half-century after a mass of humanity converged on a farm in Bethel, N.Y. for three days of peace and music, musicians and concert-goers recall a unique moment for their generation\\n       \\n        Documentary explores impact of globalization, centering on a closed Ohio plant that reopens under Chinese management\\n       \\n        Just last year, Monte was living in a shelter – now he\\'s on the road to fame\\n       \\n        The Heidelberg Project now attracts an estimated 200,000 visitors a year\\n       \\n        The fake notice has already fooled many of your friends and many celebrities\\n       \\n        Users will be able to disconnect their account from data Facebook gathers elsewhere on the web—after a wait period\\n       \\n        Cyberattack typically spreads through malicious links in emails and has crippled a string of cities in recent years\\n       \\n        Twenty states are considering so-called \"Right to Repair\" bills to allow electronics to be fixed without jeopardizing quality or voiding warranties\\n       \\n        Streaming giant is investing in tech that can automate part of the trailer-making process for its massive library\\n       \\n        \"If you ask somebody whether they\\'d like their water with or without plastic, I doubt you\\'d get any answer other than, \\'hold the plastic, please!\\'\"\\n       \\n        The cosmic collision could be the first example of a black hole colliding with a neutron star — possibly offering new insights into the expansion of the universe\\n       \\n        Explorers on the first manned voyage in nearly 15 years were astonished by the famous ship\\'s rapid decay\\n       \\n        Rising sea levels and the intrusion of salt water from the Gulf of Mexico have destroyed much of the island\\'s natural protective barrier\\n       \\n        The sky in Sao Paulo, Brazil, went dark Monday due to the smoke carried in from nearly 1,700 miles away\\n       \\n        Health officials are now looking into more than 150 possible cases in 16 states\\n       \\n        \"If you ask somebody whether they\\'d like their water with or without plastic, I doubt you\\'d get any answer other than, \\'hold the plastic, please!\\'\"\\n       \\n        Many who have their wisdom teeth removed are prescribed opioid painkillers – but there may be a better, safer option\\n       \\n        Wife of retired Army Sergeant Michael McCoy says he knew the Veterans Affairs \"had failed him\"\\n       \\n        Employee health care costs have risen twice as fast as wages—those with coverage pay thousands of dollars more\\n       \\n        Employee health care costs have risen twice as fast as wages—those with coverage pay thousands of dollars more\\n       \\n        As the White House vacillates over another another tax cut, economists of all political stripes say: Don\\'t bother\\n       \\n        While President Trump blasts Jerome Powell for slowdown, Fed officials put the blame squarely on trade tensions\\n       \\n        Documentary explores impact of globalization, centering on a closed Ohio plant that reopens under Chinese management\\n       \\n        Donald Trump has touted his steel tariffs as bolstering U.S. Steel, but market stagnation is hurting demand\\n       \\n        The indictment of a former doctor at a veterans hospital in Arkansas is sending shock waves through the nation\\'s largest healthcare system. Dr. Robert Levy is accused of involuntary manslaughter in the deaths of three patients and he could be responsible for the deaths of more than a dozen others. Omar Villafranca has one widow\\'s story.\\n       \\n        These are the deadliest mass shootings in American history\\n       \\n        As states grapple with how to retain those willing to enter the profession, one official thinks he\\'s found a way to make working behind bars more attractive\\n       \\n        Authorities in New Jersey found more than a dozen guns, a grenade launcher and items with white supremacist symbols\\n       \\n        Wife of retired Army Sergeant Michael McCoy says he knew the Veterans Affairs \"had failed him\"\\n       \\n        The cosmic collision could be the first example of a black hole colliding with a neutron star — possibly offering new insights into the expansion of the universe\\n       \\n        The new port will allow two U.S. commercial crew ships to dock at the space station at the same time\\n       \\n        NASA has moved a step closer in resuming human space missions since the program was shuttered in 2011. CBS News\\' Marc Liverman reports from Huntsville, Alabama, where NASA announced it will manage the building of the new human lunar lander.\\n       \\n        The lander is a critical element in NASA\\'s plans to return astronauts to the moon in 2024\\n       \\n        Scientists spot a flare of light coming from a black hole in the Milky Way. Syracuse University physics professor Duncan Brown explains to CBSN how the mysterious event may have occurred.\\n       \\n        In August 2015, former FBI agent Tom Martens and his daughter Molly Corbett admitted killing her Irish-born husband Jason Corbett, insisting they beat him in self-defense with a brick paver and a baseball bat because Jason was choking Molly and threatening to kill her\\n       \\n        Investigators link murders of Tricia Pacaccio, Ashley Ellerin and Maria Bruno to same suspect: Michael Gargiulo\\n       \\n        The worst films of the year star big name actors, including Keanu Reeves, Anne Hathaway, and Chris Hemsworth.\\n       \\n        A traveling exhibition of gothic and occult art, sideshow performers, and bizarre specimens stopped outside Chicago, where CBS News photographer Jake Barlow took in the odd sights\\n       \\n        America\\'s first major landscaped public park, the 840-acre park in Manhattan welcomes more than 37 million visitors every year\\n       \\n        More than a dozen local governments in Texas have been hit by ransomware attacks. They\\'re being called the largest coordinated attacks on cities and come amid a rise in attacks against businesses and governments. Wired staff writer Lily Hay Newman joins CBSN\\'s Elaine Quijano to discuss what kind of damage these attacks cause and why we\\'re seeing more of them.\\n       \\n        The indictment of a former doctor at a veterans hospital in Arkansas is sending shock waves through the nation\\'s largest healthcare system. Dr. Robert Levy is accused of involuntary manslaughter in the deaths of three patients and he could be responsible for the deaths of more than a dozen others. Omar Villafranca has one widow\\'s story.\\n       \\n        Time and tides have been unkind to the Titanic. Explorers on the first manned voyage in nearly 15 years were astonished to find its rapid decay. Charlie D\\'Agata explains.\\n       \\n        A historic flood in March 2019 left much of America\\'s heartland under water. Grain farmers already struggling to bounce back from the Chinese trade war must now grapple with the realities of climate change that threaten to change the future of farming forever. Now, some farmers are implementing practices that could potentially reverse the effects of climate change – and provide a bigger profit. In this CBSN Originals documentary, Adam Yamaguchi travels to Nebraska, where he meets two farmers on different paths, both determined to pass their legacies on to the next generation.\\n       \\n        A California school district is reopening an investigation after video surfaced of students giving a Nazi salute. Parents are furious officials kept the incident quiet. Carter Evans reports.\\n       Copyright © 2019 CBS Interactive Inc. All rights reserved.'"
      ]
     },
     "execution_count": 65,
     "metadata": {},
     "output_type": "execute_result"
    }
   ],
   "source": [
    "articles[1]"
   ]
  },
  {
   "cell_type": "code",
   "execution_count": null,
   "metadata": {},
   "outputs": [],
   "source": []
  }
 ],
 "metadata": {
  "kernelspec": {
   "display_name": "aiml",
   "language": "python",
   "name": "aiml"
  },
  "language_info": {
   "codemirror_mode": {
    "name": "ipython",
    "version": 3
   },
   "file_extension": ".py",
   "mimetype": "text/x-python",
   "name": "python",
   "nbconvert_exporter": "python",
   "pygments_lexer": "ipython3",
   "version": "3.7.3"
  }
 },
 "nbformat": 4,
 "nbformat_minor": 2
}
