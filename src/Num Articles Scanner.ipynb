{
 "cells": [
  {
   "cell_type": "code",
   "execution_count": 25,
   "metadata": {},
   "outputs": [
    {
     "data": {
      "text/plain": [
       "131072"
      ]
     },
     "execution_count": 25,
     "metadata": {},
     "output_type": "execute_result"
    }
   ],
   "source": [
    "import os\n",
    "import glob\n",
    "import csv\n",
    "import ctypes"
   ]
  },
  {
   "cell_type": "code",
   "execution_count": 30,
   "metadata": {},
   "outputs": [
    {
     "name": "stdout",
     "output_type": "stream",
     "text": [
      "Number of left articles: 3514\n",
      "Number of right articles: 6668\n",
      "Total articles: 10182\n"
     ]
    }
   ],
   "source": [
    "csv.field_size_limit(int(ctypes.c_ulong(-1).value // 2)) #Increases the max limit of each field \n",
    "\n",
    "def get_num_articles(folder_path):\n",
    "    num_articles = 0\n",
    "    \n",
    "    for filename in glob.glob(os.path.join(folder_path, '*.csv')):\n",
    "        with open(filename, encoding='UTF-8') as csvfile:\n",
    "            readCSV = csv.reader(csvfile, delimiter=',')\n",
    "            num_articles += len(list(readCSV))\n",
    "            \n",
    "    return num_articles\n",
    "\n",
    "left_path = '../data/left'\n",
    "right_path = '../data/right'\n",
    "\n",
    "left_articles = get_num_articles(left_path)\n",
    "right_articles = get_num_articles(right_path)\n",
    "        \n",
    "print('Number of left articles: {}'.format(left_articles))\n",
    "print('Number of right articles: {}'.format(right_articles))\n",
    "print('Total articles: {}'.format(left_articles + right_articles))"
   ]
  }
 ],
 "metadata": {
  "kernelspec": {
   "display_name": "Python 3",
   "language": "python",
   "name": "python3"
  },
  "language_info": {
   "codemirror_mode": {
    "name": "ipython",
    "version": 3
   },
   "file_extension": ".py",
   "mimetype": "text/x-python",
   "name": "python",
   "nbconvert_exporter": "python",
   "pygments_lexer": "ipython3",
   "version": "3.7.3"
  }
 },
 "nbformat": 4,
 "nbformat_minor": 2
}
