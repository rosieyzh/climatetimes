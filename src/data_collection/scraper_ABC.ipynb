{
 "cells": [
  {
   "cell_type": "code",
   "execution_count": 1,
   "metadata": {},
   "outputs": [],
   "source": [
    "import requests\n",
    "from bs4 import BeautifulSoup\n",
    "import pandas as pd\n",
    "import re"
   ]
  },
  {
   "cell_type": "code",
   "execution_count": 13,
   "metadata": {},
   "outputs": [],
   "source": [
    "r = requests.get(\"https://abcnews.go.com/alerts/climate-change\")\n",
    "soup_links = BeautifulSoup(r.text, 'html.parser')\n",
    "links_results = soup_links.findAll('a', {\"class\":\"colors__hoverBlack--3n67Z\"})\n",
    "\n",
    "links=[]\n",
    "for result in links_results:\n",
    "    if 'video' not in result['href']:\n",
    "        links.append(result['href'])\n",
    "    \n",
    "links = links[18:]"
   ]
  },
  {
   "cell_type": "code",
   "execution_count": 14,
   "metadata": {},
   "outputs": [
    {
     "data": {
      "text/plain": [
       "['https://abcnews.go.com/Politics/democratic-party-officials-oppose-climate-change-debate/story?id=65126611',\n",
       " 'https://abcnews.go.com/International/wireStory/germany-seeks-active-role-arctic-amid-climate-change-65092802',\n",
       " 'https://abcnews.go.com/Technology/wireStory/funeral-lost-ice-iceland-bids-farewell-glacier-65045010',\n",
       " 'https://abcnews.go.com/Technology/wireStory/alaska-records-warmest-month-future-records-65032752',\n",
       " 'https://abcnews.go.com/US/july-hottest-month-recorded-earth-140-years/story?id=64994076',\n",
       " 'https://abcnews.go.com/US/carbon-dioxide-atmosphere-rose-levels-planet-800000-years/story?id=64929815',\n",
       " 'https://abcnews.go.com/Politics/climate-change-worse-faster-mobilizing-solve-al-gore/story?id=64862944',\n",
       " 'https://abcnews.go.com/Politics/overhaul-global-diets-food-systems-needed-combat-climate/story?id=64852679',\n",
       " 'https://abcnews.go.com/Technology/wireStory/warming-report-sees-hungry-future-avoided-64848363',\n",
       " 'https://abcnews.go.com/Politics/release-report-detailing-climate-change-impacts-land-food/story?id=64836278',\n",
       " 'https://abcnews.go.com/International/17-countries-home-25-worlds-population-facing-water/story?id=64827506',\n",
       " 'https://abcnews.go.com/Technology/wireStory/global-warming-brings-wildfire-risk-rainy-us-northwest-64767818',\n",
       " 'https://abcnews.go.com/Politics/amid-historic-heat-greenland-ice-sheet-loses-11/story?id=64737944',\n",
       " 'https://abcnews.go.com/Technology/irish-teen-invents-method-remove-microplastics-ocean-wins/story?id=64731771',\n",
       " 'https://abcnews.go.com/Travel/wireStory/plastic-bottles-sales-banned-san-francisco-airport-64743152',\n",
       " 'https://abcnews.go.com/International/wireStory/scientists-link-europe-heat-wave-man-made-global-64728802',\n",
       " 'https://abcnews.go.com/Travel/wireStory/walloped-heat-wave-greenland-sees-massive-ice-melt-64708833',\n",
       " 'https://abcnews.go.com/Technology/wireStory/scientists-10-warmest-uk-years-2002-64675368',\n",
       " 'https://abcnews.go.com/Technology/wireStory/sailing-america-teen-bring-climate-activism-us-64627695',\n",
       " 'https://abcnews.go.com/Lifestyle/wireStory/latest-uk-travelers-face-chaos-hot-spell-64583291',\n",
       " 'https://abcnews.go.com/International/researchers-commemorate-dead-glacier-plaque-memorial-service-iceland/story?id=64507718',\n",
       " 'https://abcnews.go.com/Politics/wireStory/climate-change-forum-loses-sponsor-dispute-story-64318537',\n",
       " 'https://abcnews.go.com/International/wireStory/bahrain-records-hottest-june-100-years-64210422',\n",
       " 'https://abcnews.go.com/Politics/wireStory/oregon-governor-ready-lead-divisive-climate-plan-64069863',\n",
       " 'https://abcnews.go.com/Technology/wireStory/floating-antarctic-ice-record-high-record-lows-64069771',\n",
       " 'https://abcnews.go.com/International/wireStory/chief-warns-paris-climate-goals-64047151',\n",
       " 'https://abcnews.go.com/Politics/wireStory/oregon-senate-republicans-end-walkout-carbon-bill-64037995',\n",
       " 'https://abcnews.go.com/Politics/sign-oregon-republicans-walked-amid-climate-change-vote/story?id=63957998',\n",
       " 'https://abcnews.go.com/US/oregons-republican-state-senators-hiding-democrats-delay-climate/story?id=63880562',\n",
       " 'https://abcnews.go.com/Politics/wireStory/climate-protesters-storm-open-pit-mine-western-germany-63884749',\n",
       " 'https://abcnews.go.com/Technology/wireStory/study-lethal-plastic-trash-now-common-greeces-whales-63859140',\n",
       " 'https://abcnews.go.com/Lifestyle/wireStory/climate-guilt-flying-longer-high-road-63827820',\n",
       " 'https://abcnews.go.com/International/rapid-melting-greenland-ice-sheet-significant-contributor-rising/story?id=63784264',\n",
       " 'https://abcnews.go.com/Politics/epa-finalizes-power-plant-rules-replace-obamas-signature/story?id=63791842',\n",
       " 'https://abcnews.go.com/Health/war-plastic-study-shows-states-banned-plastic-bags/story?id=63529555',\n",
       " 'https://abcnews.go.com/Technology/wireStory/virginia-city-divest-budget-funds-fossil-fuels-63600668',\n",
       " 'https://abcnews.go.com/Technology/rising-methane-levels-thwarting-climate-change-efforts/story?id=63547851']"
      ]
     },
     "execution_count": 14,
     "metadata": {},
     "output_type": "execute_result"
    }
   ],
   "source": [
    "links"
   ]
  },
  {
   "cell_type": "code",
   "execution_count": 30,
   "metadata": {},
   "outputs": [
    {
     "name": "stdout",
     "output_type": "stream",
     "text": [
      "https://abcnews.go.com/Politics/democratic-party-officials-oppose-climate-change-debate/story?id=65126611\n",
      "https://abcnews.go.com/International/wireStory/germany-seeks-active-role-arctic-amid-climate-change-65092802\n",
      "https://abcnews.go.com/Technology/wireStory/funeral-lost-ice-iceland-bids-farewell-glacier-65045010\n",
      "https://abcnews.go.com/Technology/wireStory/alaska-records-warmest-month-future-records-65032752\n",
      "https://abcnews.go.com/US/july-hottest-month-recorded-earth-140-years/story?id=64994076\n",
      "https://abcnews.go.com/US/carbon-dioxide-atmosphere-rose-levels-planet-800000-years/story?id=64929815\n",
      "https://abcnews.go.com/Politics/climate-change-worse-faster-mobilizing-solve-al-gore/story?id=64862944\n",
      "https://abcnews.go.com/Politics/overhaul-global-diets-food-systems-needed-combat-climate/story?id=64852679\n",
      "https://abcnews.go.com/Technology/wireStory/warming-report-sees-hungry-future-avoided-64848363\n",
      "https://abcnews.go.com/Politics/release-report-detailing-climate-change-impacts-land-food/story?id=64836278\n",
      "https://abcnews.go.com/International/17-countries-home-25-worlds-population-facing-water/story?id=64827506\n",
      "https://abcnews.go.com/Technology/wireStory/global-warming-brings-wildfire-risk-rainy-us-northwest-64767818\n",
      "https://abcnews.go.com/Politics/amid-historic-heat-greenland-ice-sheet-loses-11/story?id=64737944\n",
      "https://abcnews.go.com/Technology/irish-teen-invents-method-remove-microplastics-ocean-wins/story?id=64731771\n",
      "https://abcnews.go.com/Travel/wireStory/plastic-bottles-sales-banned-san-francisco-airport-64743152\n",
      "https://abcnews.go.com/International/wireStory/scientists-link-europe-heat-wave-man-made-global-64728802\n",
      "https://abcnews.go.com/Travel/wireStory/walloped-heat-wave-greenland-sees-massive-ice-melt-64708833\n",
      "https://abcnews.go.com/Technology/wireStory/scientists-10-warmest-uk-years-2002-64675368\n",
      "https://abcnews.go.com/Technology/wireStory/sailing-america-teen-bring-climate-activism-us-64627695\n",
      "https://abcnews.go.com/Lifestyle/wireStory/latest-uk-travelers-face-chaos-hot-spell-64583291\n",
      "https://abcnews.go.com/International/researchers-commemorate-dead-glacier-plaque-memorial-service-iceland/story?id=64507718\n",
      "https://abcnews.go.com/Politics/wireStory/climate-change-forum-loses-sponsor-dispute-story-64318537\n",
      "https://abcnews.go.com/International/wireStory/bahrain-records-hottest-june-100-years-64210422\n",
      "https://abcnews.go.com/Politics/wireStory/oregon-governor-ready-lead-divisive-climate-plan-64069863\n",
      "https://abcnews.go.com/Technology/wireStory/floating-antarctic-ice-record-high-record-lows-64069771\n",
      "https://abcnews.go.com/International/wireStory/chief-warns-paris-climate-goals-64047151\n",
      "https://abcnews.go.com/Politics/wireStory/oregon-senate-republicans-end-walkout-carbon-bill-64037995\n",
      "https://abcnews.go.com/Politics/sign-oregon-republicans-walked-amid-climate-change-vote/story?id=63957998\n",
      "https://abcnews.go.com/US/oregons-republican-state-senators-hiding-democrats-delay-climate/story?id=63880562\n",
      "https://abcnews.go.com/Politics/wireStory/climate-protesters-storm-open-pit-mine-western-germany-63884749\n",
      "https://abcnews.go.com/Technology/wireStory/study-lethal-plastic-trash-now-common-greeces-whales-63859140\n",
      "https://abcnews.go.com/Lifestyle/wireStory/climate-guilt-flying-longer-high-road-63827820\n",
      "https://abcnews.go.com/International/rapid-melting-greenland-ice-sheet-significant-contributor-rising/story?id=63784264\n",
      "https://abcnews.go.com/Politics/epa-finalizes-power-plant-rules-replace-obamas-signature/story?id=63791842\n",
      "https://abcnews.go.com/Health/war-plastic-study-shows-states-banned-plastic-bags/story?id=63529555\n",
      "https://abcnews.go.com/Technology/wireStory/virginia-city-divest-budget-funds-fossil-fuels-63600668\n",
      "https://abcnews.go.com/Technology/rising-methane-levels-thwarting-climate-change-efforts/story?id=63547851\n"
     ]
    }
   ],
   "source": [
    "abc_articles=[]\n",
    "abc_titles=[]\n",
    "abc_authors=[]\n",
    "abc_dates=[]\n",
    "\n",
    "for link in links:\n",
    "    print(link)\n",
    "    sample=requests.get(link)\n",
    "    soup = BeautifulSoup(sample.text, 'html.parser')\n",
    "    #get title\n",
    "    header = soup.find('header',{'class':'article-header'})\n",
    "    if not header:\n",
    "        continue\n",
    "    abc_titles.append(header.find('h1').text)\n",
    "    \n",
    "    #get author\n",
    "    abc_authors.append(header.find('ul', {'class':'authors'}).text.replace('By', '').strip())\n",
    "    \n",
    "    #get publication date\n",
    "    abc_dates.append(header.find('span', {'class':'timestamp'}).text)\n",
    "    \n",
    "    #get article text\n",
    "    articleBody = soup.findAll('p', itemprop=\"articleBody\")\n",
    "    s=\"\"\n",
    "    for t in articleBody:\n",
    "        s = s +'¶'+t.text\n",
    "    abc_articles.append(s)"
   ]
  },
  {
   "cell_type": "code",
   "execution_count": 23,
   "metadata": {},
   "outputs": [],
   "source": [
    "abc_articles = list(filter(None, abc_articles))"
   ]
  },
  {
   "cell_type": "code",
   "execution_count": 37,
   "metadata": {},
   "outputs": [],
   "source": [
    "abc_dates[1]='Aug 21, 2019, 6:35 AM ET'\n",
    "abc_dates[2]='Aug 18, 2019, 2:44 PM ET'\n",
    "abc_dates[3]='Aug 18, 2019, 2:14 AM ET'"
   ]
  },
  {
   "cell_type": "code",
   "execution_count": 38,
   "metadata": {},
   "outputs": [
    {
     "data": {
      "text/plain": [
       "['Aug 22, 2019, 4:06 PM ET',\n",
       " 'Aug 21, 2019, 6:35 AM ET',\n",
       " 'Aug 18, 2019, 2:44 PM ET',\n",
       " 'Aug 18, 2019, 2:14 AM ET',\n",
       " 'Aug 15, 2019, 12:29 PM ET',\n",
       " 'Aug 12, 2019, 6:17 PM ET',\n",
       " 'Aug 11, 2019, 9:52 AM ET',\n",
       " 'Aug 8, 2019, 4:46 PM ET',\n",
       " 'Aug 8, 2019, 7:49 AM ET',\n",
       " 'Aug 8, 2019, 5:03 AM ET',\n",
       " 'Aug 2, 2019, 3:54 PM ET',\n",
       " 'Aug 2, 2019, 4:04 PM ET',\n",
       " 'Jul 23, 2019, 1:52 PM ET',\n",
       " 'Jun 26, 2019, 4:24 PM ET',\n",
       " 'Jun 23, 2019, 2:05 AM ET',\n",
       " 'Jun 20, 2019, 5:58 AM ET',\n",
       " 'Jun 19, 2019, 12:31 PM ET',\n",
       " 'Jun 6, 2019, 2:25 PM ET',\n",
       " 'Jun 8, 2019, 10:15 AM ET']"
      ]
     },
     "execution_count": 38,
     "metadata": {},
     "output_type": "execute_result"
    }
   ],
   "source": [
    "abc_dates"
   ]
  },
  {
   "cell_type": "code",
   "execution_count": 42,
   "metadata": {},
   "outputs": [],
   "source": [
    "df = pd.DataFrame(abc_articles, columns=['content']).drop_duplicates()\n",
    "df['title']=abc_titles\n",
    "df['author']=abc_authors\n",
    "df['date']=abc_dates\n",
    "df['denial?'] = [0]*len(df.index)\n"
   ]
  },
  {
   "cell_type": "code",
   "execution_count": 43,
   "metadata": {},
   "outputs": [],
   "source": [
    "cols=['title', 'author', 'date', 'content', 'denial?']\n",
    "df = df[cols]"
   ]
  },
  {
   "cell_type": "code",
   "execution_count": 46,
   "metadata": {},
   "outputs": [],
   "source": [
    "#save df to csv\n",
    "df.to_csv('../../data/left/data_abc_articles.csv', index=False)"
   ]
  },
  {
   "cell_type": "code",
   "execution_count": 30,
   "metadata": {},
   "outputs": [],
   "source": [
    "abc_articles_p=[]\n",
    "\n",
    "for link in links:\n",
    "    sample=requests.get(link)\n",
    "    soup = BeautifulSoup(sample.text, 'html.parser')\n",
    "    articleBody = soup.findAll('p', itemprop=\"articleBody\")\n",
    "    for t in articleBody:\n",
    "        abc_articles_p.append(t.text)"
   ]
  },
  {
   "cell_type": "code",
   "execution_count": 31,
   "metadata": {},
   "outputs": [
    {
     "name": "stdout",
     "output_type": "stream",
     "text": [
      "354\n"
     ]
    }
   ],
   "source": [
    "abc_articles_p = list(filter(None, abc_articles_p))\n",
    "print(len(abc_articles_p))"
   ]
  },
  {
   "cell_type": "code",
   "execution_count": 32,
   "metadata": {},
   "outputs": [
    {
     "data": {
      "text/plain": [
       "['\\nHeat warnings slammed much of the eastern half of the U.S. -- from Kansas to Ohio and North Carolina to New Hampshire -- last month.\\n',\n",
       " '\\nOn July 19, several heat index readings came close to setting records throughout the eastern region.\\n',\n",
       " '\\nSome of the temperatures the following day, in places like New York City and Philadelphia, were expected to be the hottest in several years.\\n',\n",
       " '\\nIn Europe, a heat wave in July produced the highest-ever temperatures in Belgium and Germany, while the Netherlands saw its hottest day in 75 years, according to The Associated Press.',\n",
       " \"\\nCarbon dioxide levels in Earth's atmosphere rose to levels the planet hasn't seen in 800,000 years in 2018, underscoring the impact of irreversible -- and increasing -- environmental damage due to human activity, according to a new federal report.\\n\",\n",
       " \"\\nCarbon dioxide and other major greenhouse gases, including methane, and nitrous oxide, continued their rapid increase last year, while global sea level rose to its highest on record, according to the American Meteorological Society's State of the Climate in 2018 report, released on Monday.\\n\",\n",
       " '\\nGlobal average sea level rose to a new record high in 2018, rising for the seventh consecutive year, according to the report, which was compiled by 470 scientists in 60 countries.',\n",
       " '\\nGlobal average sea level was about 3.2 inches higher than the 1993 average -- the year that marks the beginning of the satellite altimeter record. Global sea level is rising at an average rate of 1.2 inches per decade.',\n",
       " \"\\nGlobally, upper ocean heat content reached record highs in 2018. Oceans absorb more than 90% of Earth's excess heat from global warming and sea ice was at a near-record low, the report said.\\n\",\n",
       " '\\n\"This places 2018 as having the fourth warmest annual global temperature since records began in the mid- to late 1800s. The four warmest years on record have all occurred since 2015,\" the American Meteorological Society, led by the U.S. National Oceanic and Atmospheric Administration, said in a statement. \"There were also more high, and fewer low, temperature extremes than in nearly the entire 68-year extremes record.\"']"
      ]
     },
     "execution_count": 32,
     "metadata": {},
     "output_type": "execute_result"
    }
   ],
   "source": [
    "abc_articles_p[50:60]"
   ]
  },
  {
   "cell_type": "code",
   "execution_count": 33,
   "metadata": {},
   "outputs": [],
   "source": [
    "df = pd.DataFrame(abc_articles, columns=['text']).drop_duplicates()\n",
    "df['denial?'] = [0]*len(df.index)\n",
    "#save df to csv\n",
    "df.to_csv('../data/data_abc.csv', index=False)"
   ]
  },
  {
   "cell_type": "code",
   "execution_count": null,
   "metadata": {},
   "outputs": [],
   "source": []
  }
 ],
 "metadata": {
  "kernelspec": {
   "display_name": "aiml",
   "language": "python",
   "name": "aiml"
  },
  "language_info": {
   "codemirror_mode": {
    "name": "ipython",
    "version": 3
   },
   "file_extension": ".py",
   "mimetype": "text/x-python",
   "name": "python",
   "nbconvert_exporter": "python",
   "pygments_lexer": "ipython3",
   "version": "3.7.3"
  }
 },
 "nbformat": 4,
 "nbformat_minor": 2
}
