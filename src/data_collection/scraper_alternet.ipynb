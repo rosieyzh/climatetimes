{
 "cells": [
  {
   "cell_type": "code",
   "execution_count": 13,
   "metadata": {},
   "outputs": [],
   "source": [
    "import requests\n",
    "from bs4 import BeautifulSoup\n",
    "import pandas as pd\n",
    "import re"
   ]
  },
  {
   "cell_type": "code",
   "execution_count": 26,
   "metadata": {},
   "outputs": [],
   "source": [
    "def get_links(page_link):\n",
    "    links=[]\n",
    "    r = requests.get(page_link, headers=headers)\n",
    "    soup = BeautifulSoup(r.text, 'html.parser')\n",
    "    for ana in soup.findAll('a'):\n",
    "        if ana.parent.name == 'h2':\n",
    "            links.append(ana['href'])\n",
    "    return links[1:]\n",
    "\n",
    "def get_text(article_link):\n",
    "    article=\"\"\n",
    "    r = requests.get(article_link, headers=headers)\n",
    "    soup = BeautifulSoup(r.text, 'html.parser')\n",
    "    soup_article=soup.find(\"article\")\n",
    "    [s.extract() for s in soup_article('blockquote')]\n",
    "\n",
    "    #get author\n",
    "    #get publication date\n",
    "    #get content\n",
    "    for t in soup_article.findAll('p'):\n",
    "        excerpt = t.text.replace(u'\\xa0', u' ')\n",
    "        if \"[[{“type”:”media”\" not in excerpt:\n",
    "            article = article + \"¶\" + excerpt\n",
    "    return article\n",
    "\n",
    "def get_title(article_link):\n",
    "    r = requests.get(article_link, headers=headers)\n",
    "    soup = BeautifulSoup(r.text, 'html.parser')\n",
    "    soup_article=soup.find(\"article\")\n",
    "    [s.extract() for s in soup_article('blockquote')]\n",
    "    #get title\n",
    "    title = soup_article.find('h1', {'class':'post-title'})\n",
    "    if not title:\n",
    "        print(\"No title for {}\".format(article_link))\n",
    "    return title.text\n",
    "\n",
    "def get_author(article_link):\n",
    "    r = requests.get(article_link, headers=headers)\n",
    "    soup = BeautifulSoup(r.text, 'html.parser')\n",
    "    soup_article=soup.find(\"article\")\n",
    "    [s.extract() for s in soup_article('blockquote')]\n",
    "    #get author\n",
    "    author = soup_article.find('a', {'class':'author'})\n",
    "    if not author:\n",
    "        print(\"No title for {}\".format(article_link))\n",
    "    return author.text\n",
    "\n",
    "def get_date(article_link):\n",
    "    r = requests.get(article_link, headers=headers)\n",
    "    soup = BeautifulSoup(r.text, 'html.parser')\n",
    "    soup_article=soup.find(\"article\")\n",
    "    [s.extract() for s in soup_article('blockquote')]\n",
    "    #get author\n",
    "    date = soup_article.find('time', {'class':'entry-date'})\n",
    "    if not date:\n",
    "        print(\"No title for {}\".format(article_link))\n",
    "    return date.text"
   ]
  },
  {
   "cell_type": "code",
   "execution_count": 27,
   "metadata": {},
   "outputs": [],
   "source": [
    "headers = {'User-Agent':'Mozilla/5.0'}\n",
    "alternet_titles=[]\n",
    "alternet_authors=[]\n",
    "alternet_dates=[]\n",
    "alternet_articles=[]\n",
    "for i in range(100):\n",
    "    links = get_links(\"https://www.alternet.org/tag/climate-change/page/{}/\".format(i))\n",
    "    for link in links:\n",
    "        alternet_articles.append(get_text(link))\n",
    "        alternet_titles.append(get_title(link))\n",
    "        alternet_dates.append(get_date(link))\n",
    "        alternet_authors.append(get_author(link))"
   ]
  },
  {
   "cell_type": "code",
   "execution_count": 28,
   "metadata": {},
   "outputs": [
    {
     "data": {
      "text/plain": [
       "1000"
      ]
     },
     "execution_count": 28,
     "metadata": {},
     "output_type": "execute_result"
    }
   ],
   "source": [
    "len(alternet_titles)"
   ]
  },
  {
   "cell_type": "code",
   "execution_count": 29,
   "metadata": {},
   "outputs": [],
   "source": [
    "df = pd.DataFrame(alternet_articles, columns=['content'])\n",
    "df['title']=alternet_titles\n",
    "df['author']=alternet_authors\n",
    "df['date']=alternet_dates\n",
    "df['denial?'] = [0]*len(df.index)\n",
    "cols=['title','author','date','content','denial?']\n",
    "df=df[cols]\n",
    "df = df.drop_duplicates()\n",
    "df.to_csv('../../data/left/data_alternet_articles.csv', index=False)"
   ]
  },
  {
   "cell_type": "code",
   "execution_count": 30,
   "metadata": {},
   "outputs": [
    {
     "data": {
      "text/plain": [
       "(990, 5)"
      ]
     },
     "execution_count": 30,
     "metadata": {},
     "output_type": "execute_result"
    }
   ],
   "source": [
    "df.shape"
   ]
  },
  {
   "cell_type": "code",
   "execution_count": null,
   "metadata": {},
   "outputs": [],
   "source": []
  }
 ],
 "metadata": {
  "kernelspec": {
   "display_name": "aiml",
   "language": "python",
   "name": "aiml"
  },
  "language_info": {
   "codemirror_mode": {
    "name": "ipython",
    "version": 3
   },
   "file_extension": ".py",
   "mimetype": "text/x-python",
   "name": "python",
   "nbconvert_exporter": "python",
   "pygments_lexer": "ipython3",
   "version": "3.7.3"
  }
 },
 "nbformat": 4,
 "nbformat_minor": 2
}
