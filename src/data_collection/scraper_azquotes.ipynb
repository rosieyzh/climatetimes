{
 "cells": [
  {
   "cell_type": "code",
   "execution_count": 1,
   "metadata": {},
   "outputs": [],
   "source": [
    "import requests\n",
    "from bs4 import BeautifulSoup\n",
    "import re\n",
    "import pandas as pd"
   ]
  },
  {
   "cell_type": "code",
   "execution_count": 6,
   "metadata": {},
   "outputs": [],
   "source": [
    "quotes=[]\n",
    "def get_text(i):\n",
    "    r = requests.get(\"https://www.azquotes.com/quotes/topics/climate-change.html?p={}\".format(i))\n",
    "    soup = BeautifulSoup(r.text, 'html.parser')\n",
    "    list_quotes = soup.find('ul', {'class': 'list-quotes'})\n",
    "    for p in list_quotes.findAll('p'):\n",
    "        quotes.append(p.text.strip('\\\"').strip())\n",
    "    print(\"Done for page {}\".format(i))"
   ]
  },
  {
   "cell_type": "code",
   "execution_count": 7,
   "metadata": {},
   "outputs": [
    {
     "name": "stdout",
     "output_type": "stream",
     "text": [
      "Done for page 1\n",
      "Done for page 2\n",
      "Done for page 3\n",
      "Done for page 4\n",
      "Done for page 5\n",
      "Done for page 6\n",
      "Done for page 7\n",
      "Done for page 8\n",
      "Done for page 9\n",
      "Done for page 10\n",
      "Done for page 11\n",
      "Done for page 12\n",
      "Done for page 13\n",
      "Done for page 14\n",
      "Done for page 15\n",
      "Done for page 16\n",
      "Done for page 17\n",
      "Done for page 18\n",
      "Done for page 19\n",
      "Done for page 20\n",
      "Done for page 21\n",
      "Done for page 22\n",
      "Done for page 23\n",
      "Done for page 24\n",
      "Done for page 25\n",
      "Done for page 26\n",
      "Done for page 27\n",
      "Done for page 28\n",
      "Done for page 29\n",
      "Done for page 30\n",
      "Done for page 31\n",
      "Done for page 32\n",
      "Done for page 33\n",
      "Done for page 34\n",
      "Done for page 35\n",
      "Done for page 36\n",
      "Done for page 37\n",
      "Done for page 38\n",
      "Done for page 39\n",
      "Done for page 40\n"
     ]
    }
   ],
   "source": [
    "for i in range(1, 41):\n",
    "    get_text(i)\n"
   ]
  },
  {
   "cell_type": "code",
   "execution_count": 8,
   "metadata": {},
   "outputs": [
    {
     "data": {
      "text/plain": [
       "1000"
      ]
     },
     "execution_count": 8,
     "metadata": {},
     "output_type": "execute_result"
    }
   ],
   "source": [
    "len(quotes)"
   ]
  },
  {
   "cell_type": "code",
   "execution_count": null,
   "metadata": {},
   "outputs": [
    {
     "name": "stdout",
     "output_type": "stream",
     "text": [
      "Today, more than ever before, life must be characterized by a sense of Universal responsibility, not only nation to nation and human to human, but also human to other forms of life.\n",
      " denial? (0/1)0\n",
      "We cannot solve our problems with the same thinking we used when we created them.\n",
      " denial? (0/1)0\n"
     ]
    }
   ],
   "source": [
    "df = pd.DataFrame(columns=['text', 'denial?'])\n",
    "for quote in quotes:\n",
    "    denial = input(\"{}\\n denial? (0/1)\".format(quote))\n",
    "    df.append({'text': quote, 'denial?': denial}, ignore_index=True)"
   ]
  },
  {
   "cell_type": "code",
   "execution_count": null,
   "metadata": {},
   "outputs": [],
   "source": []
  }
 ],
 "metadata": {
  "kernelspec": {
   "display_name": "aiml",
   "language": "python",
   "name": "aiml"
  },
  "language_info": {
   "codemirror_mode": {
    "name": "ipython",
    "version": 3
   },
   "file_extension": ".py",
   "mimetype": "text/x-python",
   "name": "python",
   "nbconvert_exporter": "python",
   "pygments_lexer": "ipython3",
   "version": "3.7.3"
  }
 },
 "nbformat": 4,
 "nbformat_minor": 2
}
