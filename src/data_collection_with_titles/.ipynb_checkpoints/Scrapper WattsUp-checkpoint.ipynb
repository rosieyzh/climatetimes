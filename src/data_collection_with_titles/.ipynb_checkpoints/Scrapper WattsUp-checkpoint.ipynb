{
 "cells": [
  {
   "cell_type": "code",
   "execution_count": 21,
   "metadata": {},
   "outputs": [],
   "source": [
    "import requests\n",
    "from bs4 import BeautifulSoup\n",
    "import pandas as pd\n",
    "import re\n",
    "import sys"
   ]
  },
  {
   "cell_type": "code",
   "execution_count": 22,
   "metadata": {},
   "outputs": [],
   "source": [
    "def get_links(result_link):\n",
    "    \"\"\"Gets all article links on a given page on a news site\"\"\"\n",
    "    links=[]\n",
    "    r = requests.get(result_link)\n",
    "    soup = BeautifulSoup(r.text, 'html.parser')\n",
    "    links_results = soup.findAll('h1', {\"class\":\"entry-title\"}) #Gets article link wrappers\n",
    "    \n",
    "    for result in links_results:\n",
    "        links.append(result.findAll('a')[0].get('href'))\n",
    "\n",
    "    return links\n",
    "\n",
    "def get_article(article_link):\n",
    "    \"\"\"Takes in a link to an article and returns the formatted article as text\"\"\"\n",
    "    title = \"\"\n",
    "    author = \"\"\n",
    "    date = \"\"\n",
    "    article= \"\"\n",
    "    \n",
    "    r = requests.get(article_link)\n",
    "    soup = BeautifulSoup(r.text, 'html.parser')\n",
    "    \n",
    "    #Getting all relevant info\n",
    "    title = soup.find('h1', class_='entry-title').text\n",
    "    author = soup.find('a', {'class': 'author' }).text\n",
    "    date = soup.find('a', class_='entry-date').text    \n",
    "    article_body = soup.find(class_='entry-content')\n",
    "\n",
    "    for p in article_body.findAll('p'):\n",
    "        excerpt = p.text.replace(u'\\xa0', u' ')\n",
    "        article = article + \" \" + excerpt\n",
    "        \n",
    "    return title, author, date, article"
   ]
  },
  {
   "cell_type": "code",
   "execution_count": null,
   "metadata": {},
   "outputs": [
    {
     "name": "stdout",
     "output_type": "stream",
     "text": [
      "Page 316 done, total articles: 3165"
     ]
    }
   ],
   "source": [
    "titles = []\n",
    "authors = []\n",
    "dates = []\n",
    "articles=[]\n",
    "MAX_PAGES = 441\n",
    "# MAX_PAGES = 2\n",
    "\n",
    "for i in range(1, MAX_PAGES):    \n",
    "    links = get_links('https://wattsupwiththat.com/page/{}/'.format(i))\n",
    "    \n",
    "    for link in links:\n",
    "        title, author, date, article = get_article(link)\n",
    "        \n",
    "        titles.append(title)    \n",
    "        authors.append(author)\n",
    "        dates.append(date)\n",
    "        articles.append(article) \n",
    "        \n",
    "    sys.stdout.write(\"\\rPage {} done, total articles: {}\".format(i, len(articles)))\n",
    "    sys.stdout.flush()"
   ]
  },
  {
   "cell_type": "code",
   "execution_count": null,
   "metadata": {},
   "outputs": [],
   "source": [
    "df = pd.DataFrame(data={'title': titles, 'author': authors, 'date': dates, 'article': articles}).drop_duplicates(keep='first')\n",
    "df['denial?'] = [1]*len(df.index)\n",
    "print('Num. articles: {}'.format(len(df)))\n",
    "df.head(5)"
   ]
  },
  {
   "cell_type": "code",
   "execution_count": null,
   "metadata": {},
   "outputs": [],
   "source": []
  },
  {
   "cell_type": "code",
   "execution_count": 101,
   "metadata": {},
   "outputs": [],
   "source": [
    "df.to_csv('../data/data_wattsup.csv', index=False)"
   ]
  }
 ],
 "metadata": {
  "kernelspec": {
   "display_name": "Python 3",
   "language": "python",
   "name": "python3"
  },
  "language_info": {
   "codemirror_mode": {
    "name": "ipython",
    "version": 3
   },
   "file_extension": ".py",
   "mimetype": "text/x-python",
   "name": "python",
   "nbconvert_exporter": "python",
   "pygments_lexer": "ipython3",
   "version": "3.7.3"
  }
 },
 "nbformat": 4,
 "nbformat_minor": 2
}
