{
 "cells": [
  {
   "cell_type": "code",
   "execution_count": 1,
   "metadata": {},
   "outputs": [],
   "source": [
    "import requests\n",
    "import re\n",
    "from bs4 import BeautifulSoup\n",
    "import pandas as pd"
   ]
  },
  {
   "cell_type": "code",
   "execution_count": 35,
   "metadata": {},
   "outputs": [],
   "source": [
    "def get_links(i):\n",
    "    links=[]\n",
    "    r = requests.get('https://www.breitbart.com/tag/climate-change/page/{}'.format(i))\n",
    "    soup=BeautifulSoup(r.text, 'html.parser')\n",
    "    \n",
    "    aList = soup.find('section', {'class': 'aList'})\n",
    "    for a in aList.findAll('a'):\n",
    "        if a.parent.name == 'article' and \"clips\" not in a['href']:\n",
    "            links.append('https://www.breitbart.com' + a['href'])\n",
    "    return links\n",
    "\n",
    "def get_text(link):\n",
    "    article_text=''\n",
    "    r=requests.get(link)\n",
    "    soup = BeautifulSoup(r.text, 'html.parser')\n",
    "    \n",
    "    article = soup.find('div', {'class':'entry-content'})\n",
    "    headers= article.findAll('h2')\n",
    "    if headers:\n",
    "        for h2 in headers:\n",
    "            article_text += h2.text\n",
    "    for p in article.findAll('p'):\n",
    "        article_text = article_text + \"\\n\" + p.text\n",
    "    return article_text"
   ]
  },
  {
   "cell_type": "code",
   "execution_count": 36,
   "metadata": {},
   "outputs": [],
   "source": [
    "articles=[]\n",
    "for i in range(1,87):\n",
    "    links=get_links(i)\n",
    "    for link in links:\n",
    "        articles.append(get_text(link))"
   ]
  },
  {
   "cell_type": "code",
   "execution_count": 37,
   "metadata": {},
   "outputs": [
    {
     "data": {
      "text/plain": [
       "2081"
      ]
     },
     "execution_count": 37,
     "metadata": {},
     "output_type": "execute_result"
    }
   ],
   "source": [
    "len(articles)"
   ]
  },
  {
   "cell_type": "code",
   "execution_count": 38,
   "metadata": {},
   "outputs": [
    {
     "data": {
      "text/plain": [
       "\"U.S. President Barack Obama has penned an opinion column in Britain’s Daily Telegraph newspaper outlining why he believes Britain should remain in the European Union (EU). The core of his arguments are: that Britain’s voice would be lost without Brussels bureaucrats; his failing deal with the largest state sponsor of terrorism; the pro-mass-privatisation TTIP deal; and the fact that dead American servicemen are buried in Europe.\\nOne might argue that he has failed to read the room.\\nJust as President Obama parodied himself in his multitude of snubs to Britain during his tenure, he has, probably unknowingly, lampooned himself again – which hasn’t gone unnoticed by staff at the Telegraph themselves, when tweeting out his column tonight.\\nHe'll be doing a weekly notebook column plus the occasional gig review\\n— Michael Deacon (@MichaelPDeacon) April 21, 2016\""
      ]
     },
     "execution_count": 38,
     "metadata": {},
     "output_type": "execute_result"
    }
   ],
   "source": [
    "articles[1000]"
   ]
  },
  {
   "cell_type": "code",
   "execution_count": 39,
   "metadata": {},
   "outputs": [],
   "source": [
    "articles = filter(None, articles)"
   ]
  },
  {
   "cell_type": "code",
   "execution_count": 41,
   "metadata": {},
   "outputs": [],
   "source": [
    "articles = list(articles)"
   ]
  },
  {
   "cell_type": "code",
   "execution_count": 42,
   "metadata": {},
   "outputs": [
    {
     "data": {
      "text/plain": [
       "2076"
      ]
     },
     "execution_count": 42,
     "metadata": {},
     "output_type": "execute_result"
    }
   ],
   "source": [
    "len(articles)"
   ]
  },
  {
   "cell_type": "code",
   "execution_count": 43,
   "metadata": {},
   "outputs": [],
   "source": [
    "df = pd.DataFrame(articles, columns=['article']).drop_duplicates()\n",
    "df['denial?'] = [1]*len(df.index)"
   ]
  },
  {
   "cell_type": "code",
   "execution_count": 44,
   "metadata": {},
   "outputs": [
    {
     "data": {
      "text/html": [
       "<div>\n",
       "<style scoped>\n",
       "    .dataframe tbody tr th:only-of-type {\n",
       "        vertical-align: middle;\n",
       "    }\n",
       "\n",
       "    .dataframe tbody tr th {\n",
       "        vertical-align: top;\n",
       "    }\n",
       "\n",
       "    .dataframe thead th {\n",
       "        text-align: right;\n",
       "    }\n",
       "</style>\n",
       "<table border=\"1\" class=\"dataframe\">\n",
       "  <thead>\n",
       "    <tr style=\"text-align: right;\">\n",
       "      <th></th>\n",
       "      <th>article</th>\n",
       "      <th>denial?</th>\n",
       "    </tr>\n",
       "  </thead>\n",
       "  <tbody>\n",
       "    <tr>\n",
       "      <th>0</th>\n",
       "      <td>Presidential hopeful Beto O’Rourke (D), still ...</td>\n",
       "      <td>1</td>\n",
       "    </tr>\n",
       "    <tr>\n",
       "      <th>1</th>\n",
       "      <td>President Donald Trump skipped a climate chang...</td>\n",
       "      <td>1</td>\n",
       "    </tr>\n",
       "    <tr>\n",
       "      <th>2</th>\n",
       "      <td>All this week, the mainstream media have been ...</td>\n",
       "      <td>1</td>\n",
       "    </tr>\n",
       "    <tr>\n",
       "      <th>3</th>\n",
       "      <td>Former Senate Majority Leader Harry Reid (D-NV...</td>\n",
       "      <td>1</td>\n",
       "    </tr>\n",
       "    <tr>\n",
       "      <th>4</th>\n",
       "      <td>ROME — Pope Francis invoked prayers for firefi...</td>\n",
       "      <td>1</td>\n",
       "    </tr>\n",
       "  </tbody>\n",
       "</table>\n",
       "</div>"
      ],
      "text/plain": [
       "                                             article  denial?\n",
       "0  Presidential hopeful Beto O’Rourke (D), still ...        1\n",
       "1  President Donald Trump skipped a climate chang...        1\n",
       "2  All this week, the mainstream media have been ...        1\n",
       "3  Former Senate Majority Leader Harry Reid (D-NV...        1\n",
       "4  ROME — Pope Francis invoked prayers for firefi...        1"
      ]
     },
     "execution_count": 44,
     "metadata": {},
     "output_type": "execute_result"
    }
   ],
   "source": [
    "df.to_csv('../data/data_breitbart.csv', index=False)\n",
    "df.head()"
   ]
  },
  {
   "cell_type": "code",
   "execution_count": null,
   "metadata": {},
   "outputs": [],
   "source": []
  }
 ],
 "metadata": {
  "kernelspec": {
   "display_name": "Python 3",
   "language": "python",
   "name": "python3"
  },
  "language_info": {
   "codemirror_mode": {
    "name": "ipython",
    "version": 3
   },
   "file_extension": ".py",
   "mimetype": "text/x-python",
   "name": "python",
   "nbconvert_exporter": "python",
   "pygments_lexer": "ipython3",
   "version": "3.7.3"
  }
 },
 "nbformat": 4,
 "nbformat_minor": 2
}
