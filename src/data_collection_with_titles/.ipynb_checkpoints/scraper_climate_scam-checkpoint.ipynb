{
 "cells": [
  {
   "cell_type": "code",
   "execution_count": 1,
   "metadata": {},
   "outputs": [],
   "source": [
    "import requests\n",
    "from bs4 import BeautifulSoup\n",
    "import re \n",
    "import pandas as pd"
   ]
  },
  {
   "cell_type": "code",
   "execution_count": 12,
   "metadata": {},
   "outputs": [],
   "source": [
    "def get_links(i):\n",
    "    links=[]\n",
    "    r = requests.get('http://www.globalclimatescam.com/page/{}/'.format(i))\n",
    "    soup = BeautifulSoup(r.text, 'html.parser')\n",
    "    for link in soup.findAll('a'):\n",
    "        if link.parent.name == 'article':\n",
    "            links.append(link['href'])\n",
    "    return links\n",
    "\n",
    "def get_text(link):\n",
    "    article=''\n",
    "    r = requests.get(link)\n",
    "    soup = BeautifulSoup(r.text,'html.parser')\n",
    "    section = soup.find('section', {'class':'entry'})\n",
    "    for p in section.findAll('p'):\n",
    "        article = article + \" \" + p.text\n",
    "        \n",
    "    return article"
   ]
  },
  {
   "cell_type": "code",
   "execution_count": 13,
   "metadata": {},
   "outputs": [],
   "source": [
    "articles=[]\n",
    "for i in range(55):\n",
    "    links = get_links(i)\n",
    "    for link in links:\n",
    "        articles.append(get_text(link))"
   ]
  },
  {
   "cell_type": "code",
   "execution_count": 14,
   "metadata": {},
   "outputs": [
    {
     "data": {
      "text/plain": [
       "748"
      ]
     },
     "execution_count": 14,
     "metadata": {},
     "output_type": "execute_result"
    }
   ],
   "source": [
    "len(articles)"
   ]
  },
  {
   "cell_type": "code",
   "execution_count": 15,
   "metadata": {},
   "outputs": [
    {
     "data": {
      "text/plain": [
       "' By Elmer Beauregard Yesterday the Crystal Serenity AKA\\xa0Stucky McBoatStuck left port from Seward Alaska and will be the first cruise ship to go through the infamous Northwest Passage reportedly thanks to Climate Change. I wish them the best of luck and sincerely hope they make it. I just think with headlines like this they are tempting fate. It reminds me of the Titanic saying it was “unsinkable” and more recently the Spirit of Mawsom who got stuck in the ice researching Global Warming in the Antarctic. Just a year ago the Ice Breaker Amundsen (named after the first explorer to successfully traverse the Northwest Passage) had to abandon its global warming research because of too much ice. Coincidentally the Amundsen will be accompanying Serenity I mean Stucky McBoatStuck through the Northwest Passage breaking any ice in its path because just the like the Titanic, Stucky would sink if it were to hit an iceberg. No need to worry though there are two helicopters on board just in case they have to evacuate and all passengers have to have $50,000 in evacuation insurance. So now a whole cruise ship full of people who believe in all of the global warming hype are putting their money where their mouths are and are attempting to do what many explorers in the past have perished trying to do. What could possibly go wrong? Just two year’s ago they found the\\xa0HMS Erebus a sunken ship from the failed Franklin Expedition.  Because of the all of this I decided to give Serenity the nickname ‘Stucky McStuckBoat’ in anticipation of what’s probably going to happen about a month from now. I didn’t come up with the name it was actually @EyeASMF on Twitter in reference to ‘Boaty McBoatface’ which was the name chosen for the UK’s new ice breaker. You can see all of Stucky’s adventures on its webcam and follow its progress via this tracker. In the meantime here is a great old folk song about all the past failed attempts to go through the Northwest Passage sung by Stan Rogers. '"
      ]
     },
     "execution_count": 15,
     "metadata": {},
     "output_type": "execute_result"
    }
   ],
   "source": [
    "articles[30]"
   ]
  },
  {
   "cell_type": "code",
   "execution_count": null,
   "metadata": {},
   "outputs": [],
   "source": [
    "df = pd.DataFrame(articles, columns=['article']).drop_duplicates()\n",
    "df['denial?'] = [1]*len(df.index)\n",
    "df.to_csv('climate_scam.csv', index=False)"
   ]
  }
 ],
 "metadata": {
  "kernelspec": {
   "display_name": "Python 3",
   "language": "python",
   "name": "python3"
  },
  "language_info": {
   "codemirror_mode": {
    "name": "ipython",
    "version": 3
   },
   "file_extension": ".py",
   "mimetype": "text/x-python",
   "name": "python",
   "nbconvert_exporter": "python",
   "pygments_lexer": "ipython3",
   "version": "3.7.3"
  }
 },
 "nbformat": 4,
 "nbformat_minor": 2
}
