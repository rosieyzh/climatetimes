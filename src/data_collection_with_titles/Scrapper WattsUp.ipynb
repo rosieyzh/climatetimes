{
 "cells": [
  {
   "cell_type": "code",
   "execution_count": 21,
   "metadata": {},
   "outputs": [],
   "source": [
    "import requests\n",
    "from bs4 import BeautifulSoup\n",
    "import pandas as pd\n",
    "import re\n",
    "import sys"
   ]
  },
  {
   "cell_type": "code",
   "execution_count": 22,
   "metadata": {},
   "outputs": [],
   "source": [
    "def get_links(result_link):\n",
    "    \"\"\"Gets all article links on a given page on a news site\"\"\"\n",
    "    links=[]\n",
    "    r = requests.get(result_link)\n",
    "    soup = BeautifulSoup(r.text, 'html.parser')\n",
    "    links_results = soup.findAll('h1', {\"class\":\"entry-title\"}) #Gets article link wrappers\n",
    "    \n",
    "    for result in links_results:\n",
    "        links.append(result.findAll('a')[0].get('href'))\n",
    "\n",
    "    return links\n",
    "\n",
    "def get_article(article_link):\n",
    "    \"\"\"Takes in a link to an article and returns the formatted article as text\"\"\"\n",
    "    title = \"\"\n",
    "    author = \"\"\n",
    "    date = \"\"\n",
    "    article= \"\"\n",
    "    \n",
    "    r = requests.get(article_link)\n",
    "    soup = BeautifulSoup(r.text, 'html.parser')\n",
    "    \n",
    "    #Getting all relevant info\n",
    "    title = soup.find('h1', class_='entry-title').text\n",
    "    author = soup.find('a', {'class': 'author' }).text\n",
    "    date = soup.find('a', class_='entry-date').text    \n",
    "    article_body = soup.find(class_='entry-content')\n",
    "\n",
    "    for p in article_body.findAll('p'):\n",
    "        excerpt = p.text.replace(u'\\xa0', u' ')\n",
    "        article = article + \" \" + excerpt\n",
    "        \n",
    "    return title, author, date, article"
   ]
  },
  {
   "cell_type": "code",
   "execution_count": 23,
   "metadata": {},
   "outputs": [
    {
     "name": "stdout",
     "output_type": "stream",
     "text": [
      "Page 440 done, total articles: 4405"
     ]
    }
   ],
   "source": [
    "titles = []\n",
    "authors = []\n",
    "dates = []\n",
    "articles=[]\n",
    "MAX_PAGES = 441\n",
    "# MAX_PAGES = 2\n",
    "\n",
    "for i in range(1, MAX_PAGES):    \n",
    "    links = get_links('https://wattsupwiththat.com/page/{}/'.format(i))\n",
    "    \n",
    "    for link in links:\n",
    "        title, author, date, article = get_article(link)\n",
    "        \n",
    "        titles.append(title)    \n",
    "        authors.append(author)\n",
    "        dates.append(date)\n",
    "        articles.append(article) \n",
    "        \n",
    "    sys.stdout.write(\"\\rPage {} done, total articles: {}\".format(i, len(articles)))\n",
    "    sys.stdout.flush()"
   ]
  },
  {
   "cell_type": "code",
   "execution_count": 25,
   "metadata": {},
   "outputs": [
    {
     "name": "stdout",
     "output_type": "stream",
     "text": [
      "Num. articles: 4404\n"
     ]
    },
    {
     "data": {
      "text/html": [
       "<div>\n",
       "<style scoped>\n",
       "    .dataframe tbody tr th:only-of-type {\n",
       "        vertical-align: middle;\n",
       "    }\n",
       "\n",
       "    .dataframe tbody tr th {\n",
       "        vertical-align: top;\n",
       "    }\n",
       "\n",
       "    .dataframe thead th {\n",
       "        text-align: right;\n",
       "    }\n",
       "</style>\n",
       "<table border=\"1\" class=\"dataframe\">\n",
       "  <thead>\n",
       "    <tr style=\"text-align: right;\">\n",
       "      <th></th>\n",
       "      <th>title</th>\n",
       "      <th>author</th>\n",
       "      <th>date</th>\n",
       "      <th>article</th>\n",
       "      <th>denial?</th>\n",
       "    </tr>\n",
       "  </thead>\n",
       "  <tbody>\n",
       "    <tr>\n",
       "      <th>0</th>\n",
       "      <td>Aussie Government: UNESCO Should NOT cite Clim...</td>\n",
       "      <td>Eric Worrall</td>\n",
       "      <td>3 hours ago August 29, 2019</td>\n",
       "      <td>Guest essay by Eric Worrall Adding to the con...</td>\n",
       "      <td>1</td>\n",
       "    </tr>\n",
       "    <tr>\n",
       "      <th>1</th>\n",
       "      <td>Nuking Hurricanes</td>\n",
       "      <td>charles the moderator</td>\n",
       "      <td>7 hours ago August 29, 2019</td>\n",
       "      <td>Reposted From Dr. Roy Spencers Blog August 26...</td>\n",
       "      <td>1</td>\n",
       "    </tr>\n",
       "    <tr>\n",
       "      <th>2</th>\n",
       "      <td>If #HurricaneDorian Hits as a Cat4, Still No L...</td>\n",
       "      <td>Anthony Watts</td>\n",
       "      <td>9 hours ago August 29, 2019</td>\n",
       "      <td>By Dr. Roy Spencer from his website Atlantic ...</td>\n",
       "      <td>1</td>\n",
       "    </tr>\n",
       "    <tr>\n",
       "      <th>3</th>\n",
       "      <td>Prepare to retreat before climate change!</td>\n",
       "      <td>charles the moderator</td>\n",
       "      <td>11 hours ago August 29, 2019</td>\n",
       "      <td>Reposted from the Fabius Maximus website Larr...</td>\n",
       "      <td>1</td>\n",
       "    </tr>\n",
       "    <tr>\n",
       "      <th>4</th>\n",
       "      <td>Morano’s 1-hour interview debunking ‘global wa...</td>\n",
       "      <td>charles the moderator</td>\n",
       "      <td>15 hours ago August 29, 2019</td>\n",
       "      <td>From TFP Student Action Celebrities, activis...</td>\n",
       "      <td>1</td>\n",
       "    </tr>\n",
       "  </tbody>\n",
       "</table>\n",
       "</div>"
      ],
      "text/plain": [
       "                                               title                 author  \\\n",
       "0  Aussie Government: UNESCO Should NOT cite Clim...           Eric Worrall   \n",
       "1                                  Nuking Hurricanes  charles the moderator   \n",
       "2  If #HurricaneDorian Hits as a Cat4, Still No L...          Anthony Watts   \n",
       "3          Prepare to retreat before climate change!  charles the moderator   \n",
       "4  Morano’s 1-hour interview debunking ‘global wa...  charles the moderator   \n",
       "\n",
       "                           date  \\\n",
       "0   3 hours ago August 29, 2019   \n",
       "1   7 hours ago August 29, 2019   \n",
       "2   9 hours ago August 29, 2019   \n",
       "3  11 hours ago August 29, 2019   \n",
       "4  15 hours ago August 29, 2019   \n",
       "\n",
       "                                             article  denial?  \n",
       "0   Guest essay by Eric Worrall Adding to the con...        1  \n",
       "1   Reposted From Dr. Roy Spencers Blog August 26...        1  \n",
       "2   By Dr. Roy Spencer from his website Atlantic ...        1  \n",
       "3   Reposted from the Fabius Maximus website Larr...        1  \n",
       "4    From TFP Student Action Celebrities, activis...        1  "
      ]
     },
     "execution_count": 25,
     "metadata": {},
     "output_type": "execute_result"
    }
   ],
   "source": [
    "df = pd.DataFrame(data={'title': titles, 'author': authors, 'date': dates, 'article': articles}).drop_duplicates(keep='first')\n",
    "df['denial?'] = [1]*len(df.index)\n",
    "print('Num. articles: {}'.format(len(df)))\n",
    "df.head(5)"
   ]
  },
  {
   "cell_type": "code",
   "execution_count": null,
   "metadata": {},
   "outputs": [],
   "source": []
  },
  {
   "cell_type": "code",
   "execution_count": 26,
   "metadata": {},
   "outputs": [],
   "source": [
    "df.to_csv('../../data/right/data_wattsup.csv', index=False)"
   ]
  }
 ],
 "metadata": {
  "kernelspec": {
   "display_name": "Python 3",
   "language": "python",
   "name": "python3"
  },
  "language_info": {
   "codemirror_mode": {
    "name": "ipython",
    "version": 3
   },
   "file_extension": ".py",
   "mimetype": "text/x-python",
   "name": "python",
   "nbconvert_exporter": "python",
   "pygments_lexer": "ipython3",
   "version": "3.7.3"
  }
 },
 "nbformat": 4,
 "nbformat_minor": 2
}
