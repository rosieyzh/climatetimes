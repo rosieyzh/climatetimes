{
 "cells": [
  {
   "cell_type": "code",
   "execution_count": 17,
   "metadata": {},
   "outputs": [],
   "source": [
    "import requests\n",
    "import re\n",
    "from bs4 import BeautifulSoup\n",
    "import pandas as pd"
   ]
  },
  {
   "cell_type": "code",
   "execution_count": 18,
   "metadata": {},
   "outputs": [],
   "source": [
    "def get_links(i):\n",
    "    links=[]\n",
    "    r = requests.get('https://www.breitbart.com/tag/climate-change/page/{}'.format(i))\n",
    "    soup=BeautifulSoup(r.text, 'html.parser')\n",
    "    \n",
    "    aList = soup.find('section', {'class': 'aList'})\n",
    "    for a in aList.findAll('a'):\n",
    "        if a.parent.name == 'article' and \"clips\" not in a['href']:\n",
    "            links.append('https://www.breitbart.com' + a['href'])\n",
    "    return links\n",
    "\n",
    "def get_text(link):\n",
    "    article_text=''\n",
    "    title=''\n",
    "    author=''\n",
    "    date=''\n",
    "    \n",
    "    r=requests.get(link)\n",
    "    soup = BeautifulSoup(r.text, 'html.parser')\n",
    "    \n",
    "    title = soup.find('h1').text\n",
    "    date = soup.find('time').text\n",
    "    author = soup.find('address').text\n",
    "    article = soup.find('div', {'class':'entry-content'})\n",
    "    headers= article.findAll('h2')\n",
    "    \n",
    "    if headers:\n",
    "        for h2 in headers:\n",
    "            article_text += h2.text\n",
    "    for p in article.findAll('p'):\n",
    "        article_text = article_text + \"\\n\" + p.text\n",
    "    return title, author, date, article_text"
   ]
  },
  {
   "cell_type": "code",
   "execution_count": 38,
   "metadata": {},
   "outputs": [],
   "source": [
    "titles = []\n",
    "authors = []\n",
    "dates = []\n",
    "articles=[]\n",
    "\n",
    "for i in range(1,87):\n",
    "#     print('Page: {}'.format(i))\n",
    "    links=get_links(i)\n",
    "    for link in links:\n",
    "        title, author, date, article = get_text(link)\n",
    "        \n",
    "        titles.append(title)    \n",
    "        authors.append(author)\n",
    "        dates.append(date)\n",
    "        articles.append(article) "
   ]
  },
  {
   "cell_type": "code",
   "execution_count": 48,
   "metadata": {},
   "outputs": [
    {
     "data": {
      "text/plain": [
       "2083"
      ]
     },
     "execution_count": 48,
     "metadata": {},
     "output_type": "execute_result"
    }
   ],
   "source": [
    "len(articles)"
   ]
  },
  {
   "cell_type": "code",
   "execution_count": 42,
   "metadata": {},
   "outputs": [
    {
     "data": {
      "text/plain": [
       "'TEL AVIV – Palestinian President Mahmoud Abbas accused Israel at the United Nations on Friday of destroying the environment by building settlements in the West Bank.\\nSpeaking during the signing ceremony of the Paris Agreement on climate change at the\\xa0UN headquarters in New York, Abbas said that the “Israeli occupation is destroying the climate in Palestine, and the Israeli settlements are destroying the environment in Palestine.”\\nHe then called on the representatives from 175 countries who were present at the landmark agreement to “help us in putting an end to the occupation and to settlements.”\\nIsraeli Ambassador to the UN Danny Danon accused Abbas of using an unrelated occasion to “mislead the international community.”\\n“Instead of spreading hatred here at the UN, President Abbas should act to stop Palestinian terror,” he said after signing the treaty.\\n“This climate summit is supposed to be a demonstration of global unity for the sake of the future of our planet,” he added. “Unfortunately, President Abbas chose to exploit this international stage to mislead the international community.”\\nEarlier this week, Danon and Palestinian envoy Riyad Mansour became embroiled in a shouting match at a meeting of the UN Security Council over the issue of terrorism and incitement to violence on the part of the Palestinian Authority.\\nThe climate change ceremony marked the first time a Palestinian president sat in the General Assembly hall as a state party to a treaty – the result of a 2012 decision to recognize Palestine as a non-member observer state.\\nAccording to Reuters, however, Abbas’ signing of the treaty could lead to complications for the United States, which has a law forbidding U.S. funding for “any organization or group that does not have the internationally recognized attributes of statehood.”\\n21 Republican Senators signed a letter addressed to State John Kerry saying the Palestinian signature on the Paris Agreement would prevent the U.S. from paying money into a global climate fund.'"
      ]
     },
     "execution_count": 42,
     "metadata": {},
     "output_type": "execute_result"
    }
   ],
   "source": [
    "articles[1000]"
   ]
  },
  {
   "cell_type": "code",
   "execution_count": 28,
   "metadata": {},
   "outputs": [],
   "source": [
    "# articles = filter(None, articles)\n",
    "# titles = filter(None, titles)\n",
    "# authors = filter(None, authors)\n",
    "# dates = filter(None, dates)"
   ]
  },
  {
   "cell_type": "code",
   "execution_count": 34,
   "metadata": {},
   "outputs": [],
   "source": [
    "# articles = list(articles)\n",
    "# titles = list(titles)\n",
    "# authors = list(authors)\n",
    "# dates = list(dates)"
   ]
  },
  {
   "cell_type": "code",
   "execution_count": 49,
   "metadata": {},
   "outputs": [
    {
     "data": {
      "text/plain": [
       "2083"
      ]
     },
     "execution_count": 49,
     "metadata": {},
     "output_type": "execute_result"
    }
   ],
   "source": [
    "len(articles)"
   ]
  },
  {
   "cell_type": "code",
   "execution_count": 50,
   "metadata": {},
   "outputs": [],
   "source": [
    "df = pd.DataFrame(data={'title': titles, 'author': authors, 'date': dates, 'article': articles}).drop_duplicates(keep='first')\n",
    "df['denial?'] = [1]*len(df.index)"
   ]
  },
  {
   "cell_type": "code",
   "execution_count": 52,
   "metadata": {},
   "outputs": [
    {
     "data": {
      "text/html": [
       "<div>\n",
       "<style scoped>\n",
       "    .dataframe tbody tr th:only-of-type {\n",
       "        vertical-align: middle;\n",
       "    }\n",
       "\n",
       "    .dataframe tbody tr th {\n",
       "        vertical-align: top;\n",
       "    }\n",
       "\n",
       "    .dataframe thead th {\n",
       "        text-align: right;\n",
       "    }\n",
       "</style>\n",
       "<table border=\"1\" class=\"dataframe\">\n",
       "  <thead>\n",
       "    <tr style=\"text-align: right;\">\n",
       "      <th></th>\n",
       "      <th>title</th>\n",
       "      <th>author</th>\n",
       "      <th>date</th>\n",
       "      <th>article</th>\n",
       "      <th>denial?</th>\n",
       "    </tr>\n",
       "  </thead>\n",
       "  <tbody>\n",
       "    <tr>\n",
       "      <th>0</th>\n",
       "      <td>Study: California Eliminating Natural Gas Appl...</td>\n",
       "      <td>Sean Moran</td>\n",
       "      <td>29 Aug 2019</td>\n",
       "      <td>California Public Utilities Commission (CPUC) ...</td>\n",
       "      <td>1</td>\n",
       "    </tr>\n",
       "    <tr>\n",
       "      <th>1</th>\n",
       "      <td>Greta Thunberg Arrives in NYC: ‘Keep Fossil Fu...</td>\n",
       "      <td>Penny Starr</td>\n",
       "      <td>29 Aug 2019</td>\n",
       "      <td>Greta Thunberg, the 16-year-old Swede and face...</td>\n",
       "      <td>1</td>\n",
       "    </tr>\n",
       "    <tr>\n",
       "      <th>2</th>\n",
       "      <td>Ocasio-Cortez: I Want to Have ‘One Less Child’...</td>\n",
       "      <td>Hannah Bleau</td>\n",
       "      <td>28 Aug 2019</td>\n",
       "      <td>Rep. Alexandria Ocasio-Cortez (D-NY) returned ...</td>\n",
       "      <td>1</td>\n",
       "    </tr>\n",
       "    <tr>\n",
       "      <th>3</th>\n",
       "      <td>Andrew Yang Advocates for ‘Space Mirrors,’ Hig...</td>\n",
       "      <td>Penny Starr</td>\n",
       "      <td>27 Aug 2019</td>\n",
       "      <td>Entrepreneur and Democrat presidential hopeful...</td>\n",
       "      <td>1</td>\n",
       "    </tr>\n",
       "    <tr>\n",
       "      <th>4</th>\n",
       "      <td>Beto O’Rourke Grills a Cheeseburger to Prove H...</td>\n",
       "      <td>Hannah Bleau</td>\n",
       "      <td>26 Aug 2019</td>\n",
       "      <td>Presidential hopeful Beto O’Rourke (D), still ...</td>\n",
       "      <td>1</td>\n",
       "    </tr>\n",
       "  </tbody>\n",
       "</table>\n",
       "</div>"
      ],
      "text/plain": [
       "                                               title        author  \\\n",
       "0  Study: California Eliminating Natural Gas Appl...    Sean Moran   \n",
       "1  Greta Thunberg Arrives in NYC: ‘Keep Fossil Fu...   Penny Starr   \n",
       "2  Ocasio-Cortez: I Want to Have ‘One Less Child’...  Hannah Bleau   \n",
       "3  Andrew Yang Advocates for ‘Space Mirrors,’ Hig...   Penny Starr   \n",
       "4  Beto O’Rourke Grills a Cheeseburger to Prove H...  Hannah Bleau   \n",
       "\n",
       "          date                                            article  denial?  \n",
       "0  29 Aug 2019  California Public Utilities Commission (CPUC) ...        1  \n",
       "1  29 Aug 2019  Greta Thunberg, the 16-year-old Swede and face...        1  \n",
       "2  28 Aug 2019  Rep. Alexandria Ocasio-Cortez (D-NY) returned ...        1  \n",
       "3  27 Aug 2019  Entrepreneur and Democrat presidential hopeful...        1  \n",
       "4  26 Aug 2019  Presidential hopeful Beto O’Rourke (D), still ...        1  "
      ]
     },
     "execution_count": 52,
     "metadata": {},
     "output_type": "execute_result"
    }
   ],
   "source": [
    "df.to_csv('../../data/right/data_breitbart.csv', index=False)\n",
    "df.head()"
   ]
  },
  {
   "cell_type": "code",
   "execution_count": null,
   "metadata": {},
   "outputs": [],
   "source": []
  }
 ],
 "metadata": {
  "kernelspec": {
   "display_name": "Python 3",
   "language": "python",
   "name": "python3"
  },
  "language_info": {
   "codemirror_mode": {
    "name": "ipython",
    "version": 3
   },
   "file_extension": ".py",
   "mimetype": "text/x-python",
   "name": "python",
   "nbconvert_exporter": "python",
   "pygments_lexer": "ipython3",
   "version": "3.7.3"
  }
 },
 "nbformat": 4,
 "nbformat_minor": 2
}
