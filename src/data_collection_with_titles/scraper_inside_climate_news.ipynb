{
 "cells": [
  {
   "cell_type": "code",
   "execution_count": 1,
   "metadata": {},
   "outputs": [],
   "source": [
    "import requests\n",
    "import pandas as pd\n",
    "from bs4 import BeautifulSoup"
   ]
  },
  {
   "cell_type": "code",
   "execution_count": 61,
   "metadata": {},
   "outputs": [],
   "source": [
    "def get_links(i):\n",
    "    links=[]\n",
    "    r = requests.get('https://insideclimatenews.org/news/14052015/whats-behin?page={}'.format(i))\n",
    "    soup = BeautifulSoup(r.text, 'html.parser')\n",
    "    article_list = soup.find('div', {'class':'pane-content'})\n",
    "    \n",
    "    for a in article_list.findAll('a'):\n",
    "        if a.parent.name=='h3':\n",
    "            links.append('https://insideclimatenews.org'+a['href'])\n",
    "    return links\n",
    "\n",
    "def get_article(link):\n",
    "    article=''\n",
    "    r = requests.get(link)\n",
    "    soup = BeautifulSoup(r.text, 'html.parser')\n",
    "    [s.extract() for s in soup('header')]\n",
    "    [s.extract() for s in soup('ul')]\n",
    "    article_body = soup.find('div', {'class':'pane-content'})\n",
    "    if article_body:\n",
    "        widget = article_body.find('div', {'class':\"widget\"})\n",
    "        if widget:\n",
    "            widget.decompose()\n",
    "        media = article_body.find('div', {'class':\"media\"})\n",
    "        if media:\n",
    "            media.decompose()\n",
    "        tagged_with = article_body.find('div', {'class':\"tagged-with\"})\n",
    "        if tagged_with:\n",
    "            tagged_with.decompose()\n",
    "        for p in article_body.findAll('p'):\n",
    "            article = article + '\\n' + p.text.replace(u'\\xa0', u' ')\n",
    "        \n",
    "    return article"
   ]
  },
  {
   "cell_type": "code",
   "execution_count": 62,
   "metadata": {},
   "outputs": [
    {
     "name": "stdout",
     "output_type": "stream",
     "text": [
      "0\n",
      "50\n",
      "100\n",
      "150\n",
      "200\n",
      "250\n",
      "300\n",
      "350\n",
      "400\n"
     ]
    },
    {
     "ename": "AttributeError",
     "evalue": "'NoneType' object has no attribute 'findAll'",
     "output_type": "error",
     "traceback": [
      "\u001b[0;31m---------------------------------------------------------------------------\u001b[0m",
      "\u001b[0;31mAttributeError\u001b[0m                            Traceback (most recent call last)",
      "\u001b[0;32m<ipython-input-62-53342366fd1b>\u001b[0m in \u001b[0;36m<module>\u001b[0;34m\u001b[0m\n\u001b[1;32m      3\u001b[0m     \u001b[0;32mif\u001b[0m \u001b[0mi\u001b[0m\u001b[0;34m%\u001b[0m\u001b[0;36m50\u001b[0m \u001b[0;34m==\u001b[0m \u001b[0;36m0\u001b[0m\u001b[0;34m:\u001b[0m\u001b[0;34m\u001b[0m\u001b[0;34m\u001b[0m\u001b[0m\n\u001b[1;32m      4\u001b[0m         \u001b[0mprint\u001b[0m\u001b[0;34m(\u001b[0m\u001b[0mi\u001b[0m\u001b[0;34m)\u001b[0m\u001b[0;34m\u001b[0m\u001b[0;34m\u001b[0m\u001b[0m\n\u001b[0;32m----> 5\u001b[0;31m     \u001b[0mlinks\u001b[0m\u001b[0;34m=\u001b[0m\u001b[0mget_links\u001b[0m\u001b[0;34m(\u001b[0m\u001b[0mi\u001b[0m\u001b[0;34m)\u001b[0m\u001b[0;34m\u001b[0m\u001b[0;34m\u001b[0m\u001b[0m\n\u001b[0m\u001b[1;32m      6\u001b[0m     \u001b[0;32mfor\u001b[0m \u001b[0mlink\u001b[0m \u001b[0;32min\u001b[0m \u001b[0mlinks\u001b[0m\u001b[0;34m:\u001b[0m\u001b[0;34m\u001b[0m\u001b[0;34m\u001b[0m\u001b[0m\n\u001b[1;32m      7\u001b[0m         \u001b[0marticles\u001b[0m\u001b[0;34m.\u001b[0m\u001b[0mappend\u001b[0m\u001b[0;34m(\u001b[0m\u001b[0mget_article\u001b[0m\u001b[0;34m(\u001b[0m\u001b[0mlink\u001b[0m\u001b[0;34m)\u001b[0m\u001b[0;34m)\u001b[0m\u001b[0;34m\u001b[0m\u001b[0;34m\u001b[0m\u001b[0m\n",
      "\u001b[0;32m<ipython-input-61-875bbbd79233>\u001b[0m in \u001b[0;36mget_links\u001b[0;34m(i)\u001b[0m\n\u001b[1;32m      5\u001b[0m     \u001b[0marticle_list\u001b[0m \u001b[0;34m=\u001b[0m \u001b[0msoup\u001b[0m\u001b[0;34m.\u001b[0m\u001b[0mfind\u001b[0m\u001b[0;34m(\u001b[0m\u001b[0;34m'div'\u001b[0m\u001b[0;34m,\u001b[0m \u001b[0;34m{\u001b[0m\u001b[0;34m'class'\u001b[0m\u001b[0;34m:\u001b[0m\u001b[0;34m'pane-content'\u001b[0m\u001b[0;34m}\u001b[0m\u001b[0;34m)\u001b[0m\u001b[0;34m\u001b[0m\u001b[0;34m\u001b[0m\u001b[0m\n\u001b[1;32m      6\u001b[0m \u001b[0;34m\u001b[0m\u001b[0m\n\u001b[0;32m----> 7\u001b[0;31m     \u001b[0;32mfor\u001b[0m \u001b[0ma\u001b[0m \u001b[0;32min\u001b[0m \u001b[0marticle_list\u001b[0m\u001b[0;34m.\u001b[0m\u001b[0mfindAll\u001b[0m\u001b[0;34m(\u001b[0m\u001b[0;34m'a'\u001b[0m\u001b[0;34m)\u001b[0m\u001b[0;34m:\u001b[0m\u001b[0;34m\u001b[0m\u001b[0;34m\u001b[0m\u001b[0m\n\u001b[0m\u001b[1;32m      8\u001b[0m         \u001b[0;32mif\u001b[0m \u001b[0ma\u001b[0m\u001b[0;34m.\u001b[0m\u001b[0mparent\u001b[0m\u001b[0;34m.\u001b[0m\u001b[0mname\u001b[0m\u001b[0;34m==\u001b[0m\u001b[0;34m'h3'\u001b[0m\u001b[0;34m:\u001b[0m\u001b[0;34m\u001b[0m\u001b[0;34m\u001b[0m\u001b[0m\n\u001b[1;32m      9\u001b[0m             \u001b[0mlinks\u001b[0m\u001b[0;34m.\u001b[0m\u001b[0mappend\u001b[0m\u001b[0;34m(\u001b[0m\u001b[0;34m'https://insideclimatenews.org'\u001b[0m\u001b[0;34m+\u001b[0m\u001b[0ma\u001b[0m\u001b[0;34m[\u001b[0m\u001b[0;34m'href'\u001b[0m\u001b[0;34m]\u001b[0m\u001b[0;34m)\u001b[0m\u001b[0;34m\u001b[0m\u001b[0;34m\u001b[0m\u001b[0m\n",
      "\u001b[0;31mAttributeError\u001b[0m: 'NoneType' object has no attribute 'findAll'"
     ]
    }
   ],
   "source": [
    "articles=[]\n",
    "for i in range(444):\n",
    "    if i%50 == 0:\n",
    "        print(i)\n",
    "    links=get_links(i)\n",
    "    for link in links:\n",
    "        articles.append(get_article(link))"
   ]
  },
  {
   "cell_type": "code",
   "execution_count": 60,
   "metadata": {},
   "outputs": [
    {
     "data": {
      "text/plain": [
       "'\\nBritish soldiers and mountain rescue teams evacuated people in York, UK, as the River Ouse flooded in 2015. Credit: Ian Forsyth/Getty Images\\nGlobal warming is driving big changes in floods across Europe by fueling the atmosphere with more moisture and changing the path and speed of rain storms, new research shows.\\nIn some areas, that means more rainfall and surging rivers that could overwhelm levees if communities don\\'t plan for increasing flooding. Other regions have seen a decline in rain and snow, which sets up a different challenge: as flood risk there decreases, it could discourage investments in defensive measures, leaving communities vulnerable to less frequent but still damaging extreme storms.\\nThe study shows \"clear flood risk patterns across Europe that match the projected impacts of climate change,\" said Günther Blöschl, lead author of the study, published Wednesday in the journal Nature, and director of the Centre for Water Resource Systems at the Vienna University of Technology.\\n \\nTo assess the continent\\'s changing flood risks, a team of scientists from across Europe tracked the highest annual river flows at more than 3,700 stations over 50 years, from 1960 to 2010. In some of the local hotspots in northwestern Europe, they found the flows had increased by nearly 18 percent every decade. In other parts of Europe, flows had declined up to 23 percent per decade.\\n\"For each year, we picked the maximum discharge and looked at how these annual peaks change over time,\" Blöschl said. He said the study is the first to clearly show regional patterns of flood magnitude across Europe driven by global warming.\\nTo understand how global warming affects floods differently in different areas, it\\'s necessary to think about climate on a continental scale.\\nFor Europe, the areas seeing the biggest increases in the magnitude of flooding are in the north and northwest. Scotland, coastal France and parts of Norway are hotspots, Blöschl said.\\nFloods are increasing in northwestern Europe because global warming is increasing moisture in the atmosphere, making storms wetter, and shifting the track of incoming storms northward, bringing more rainfall to the region. The storms are also moving slower, so they drop more rain over river catchments, he said.\\nFrom Iceland to the Alps, the study found that river flooding had increased regionally by 11.4 percent per decade, with increases of up to 17.8 percent in some areas.\\nThe northward shift of the storm tracks also reflects an expansion of semi-arid subtropical zones in the south, the study found. As a result, precipitation has declined in southern and eastern Europe, and warming temperatures have also increased the evaporation of water from the soil there. But while flooding overall is down in those regions, they are still at risk from flash floods in smaller river basins as extreme rainfall events increase.\\n\"We know the mechanism. A warmer atmosphere holds more moisture. Rainfall is increasing, so there\\'s more water for the floods,\" Blöschl said.\\n\"Also, the soils are wetter so they can\\'t take up water, but this is not the most relevant factor,\" he said. \"More relevant is that the storm tracks are farther north than they were in the past, which means the Mediterranean gets less, the northwestern regions get more rain.\"\\nGlobally, river flooding averages about $100 billion in damages a year, and understanding how global warming affects the threat is critical for at-risk communities.\\nEarlier research had tracked seasonal changes in Europe\\'s flood risk, finding that spring flooding was starting earlier, but there had been little agreement as to how global warming affected the magnitude of floods on a regional scale.\\nBlöschl said that\\'s because most studies looked at data from just a few hundred sites, not enough to show clear regional trends. The new study looked at about 3,700 flood-measuring stations. \\nFlooding from heavy rain in 2018 caused a bridge in Villegailhenc, France, to collapse into the Trapel River. Credit: Eric Cabanis/AFP/Getty Images\\nThere\\'s plenty of scientific evidence showing more frequent flooding, but less research has been done on flood magnitude, particularly at the regional level, so the new research will help identify growing flood risks driven by global warming, said Kristy Dahl, a climate researcher with the Union of Concerned Scientists USA. One earlier study had looked at the frequency and magnitude of the largest flood events on a broader scale and found they had increased by about 9 percent in Europe overall and about 8 percent in the United States starting in 1980.\\nLocal officials could use local and regional data, like that in the new study, to make better decisions for their communities, said Sven Willner, who studies floods at the Potsdam Institute for Climate Impact Research. \\n\"This new study makes the point that flood risks are already changing and have already changed, due to climate change,\" Willner said. \"Municipalities have to find their own way to become more resilient to the increased risks they face.\"\\nRegional cooperation is also important, in part because flood control measures in one area can create new flood risks downstream.\\nThe study\\'s results show how both the extent and timing of severe floods in Europe is changing.\\n\"While past studies have focused on a few catchments or were clustered around western Europe, this study provides a continental perspective, which allows for an analysis of climate processes that manifest themselves at larger scales. Isolated local or national scale studies, however, are broadly, consistent with our findings,\" the authors wrote.\\nThe data show that, in northwestern Europe, 100-year floods—those with about a 1 percent chance of happening in any given year and often used as a benchmark in flood risk management—are now occurring more frequently, putting them closer to 50- to 80-year floods. But in much of eastern Europe, 100-year floods are happening less frequently, the study found.\\nThe study doesn\\'t make specific projections for the future, but \"it implies that what we have seen in the past may continue into the future, and what we\\'ve seen is well accounted for in climate models,\" Blöschl said. He hopes the findings will encourage better flood preparation and planning. \\n\"There is a saying: \\'After a flood is before a flood,\\'\" he said. \"It\\'s wise to build levees before a flood, but it never happens. Public spending only starts if there is visible damage.\"'"
      ]
     },
     "execution_count": 60,
     "metadata": {},
     "output_type": "execute_result"
    }
   ],
   "source": [
    "get_article(\"https://insideclimatenews.org/news/28082019/climate-change-river-flood-risk-europe-extreme-weather-magnitude-regions-study\")"
   ]
  },
  {
   "cell_type": "code",
   "execution_count": 63,
   "metadata": {},
   "outputs": [],
   "source": [
    "articles=list(filter(None, articles))"
   ]
  },
  {
   "cell_type": "code",
   "execution_count": 64,
   "metadata": {},
   "outputs": [
    {
     "data": {
      "text/plain": [
       "4416"
      ]
     },
     "execution_count": 64,
     "metadata": {},
     "output_type": "execute_result"
    }
   ],
   "source": [
    "len(articles)"
   ]
  },
  {
   "cell_type": "code",
   "execution_count": 66,
   "metadata": {},
   "outputs": [
    {
     "data": {
      "text/plain": [
       "'\\nGeothermal heat pumps use the earth\\'s consistent temperatures below the frost line to warm homes in the winter and cool them in summer. Credit: Dave Pape/CC-BY-2.0\\nSign up to receive our latest reporting on climate change, energy and environmental justice, sent directly to your inbox. Subscribe here.\\nDuring one bitter cold winter in upstate New York, Matt VanDerlofske spent $4,000 on fuel oil to heat his drafty, two-story home for the season. That was twice what he typically paid, and he had to cancel family vacations to afford it.\\n\"I never wanted it to happen again,\" he said. His solution was an unusual choice for a homeowner in the U.S., but one that\\'s gaining interest: He had a hole drilled hundreds of feet into his backyard and a geothermal heat pump installed by Dandelion, a startup energy company conceived at X, Google\\'s innovation lab that\\'s now part of its parent company, Alphabet.\\nUnderground, below the frost line, the Earth is consistently around 50 to 60 degrees Fahrenheit. Geothermal heat pumps use that temperature to keep buildings comfortable by circulating fluid through a set of pipes that runs through the earth and then connects with a heat pump. The result is much more efficient heating and cooling with clean energy than commercial air conditioning and heating systems—and much lower emissions.\\nRight now, a tiny percentage of U.S. homes use geothermal heat pumps, according to Xiaobing Liu, a geothermal researcher at Oak Ridge National Laboratory; about 500,000 buildings in the commercial sector use the technology.\\nDandelion is trying to expand that market for geothermal heating by lowering the price, and it just got a big boost from the federal government.\\nOn Friday, Congress voted to extend a 30 percent federal tax credit for geothermal heat pump installations. With state incentives included—a $26,000 system in New York would qualify for a $6,000 state rebate—the federal tax credit would drop the cost enough to make it more competitive with traditional heating and cooling.\\nLike solar power, geothermal heating cuts monthly energy costs and greenhouse gas emissions, particularly for homeowners who would otherwise rely on expensive, high-emissions fuel oil. \"This is more energy efficient than any other HVAC heating and cooling technology,\" with about 20 to 40 percent of energy savings compared to regular heating and cooling systems, Liu said.\\n\"In the past, it\\'s been an inaccessible technology for normal homeowners,\" said Kathy Hannun, a civil engineer and chief executive officer of Dandelion. \"It was very expensive, the process is hard to navigate, there\\'s not a lot of data around system performance, and traditionally the industry has suffered from quality issues.\"\\n\"We\\'re trying to overcome those obstacles,\" she said.\\nDandelion became an independent company last summer and installed its first 20 home geothermal systems in New York in 2017. It\\'s running pilot projects in the state as it builds a marketplace and experiments with both backyard geothermal and systems that can serve entire communities.\\nAt VanDerlofske\\'s home, installers drilled a hole 500 feet underground, then inserted a pipe called a \"ground loop\" that loops back up and stretches 10 feet across the yard in a shallow trench to his basement, where it hooks up to a heat pump the size of a washing machine. (Other homes have horizontal loops built in long trenches that are shallower but still buried several feet below the frost line.)\\nWater mixed with an antifreeze solution is pumped through the pipes, where it adjusts to the Earth\\'s temperature, as Dandelion explains. In the winter, that solution comes into the house at the warm, below-ground temperature. Then coils inside are heated further, using electricity, warming the air, which is pumped through ductwork as central heat. In the summer, the system transfers heat from the home back into the earth.\\n\"It\\'s a lot simpler than the old system,\" said VanDerlofske, whose basement had housed an old 250 gallon oil tank.  His house now stays a comfortable 69 degrees through the winter, but the heat is drier than he expected, he said.\\nEven with the need for electricity to run the system, VanDerlofske is paying less than half of what he paid to heat his home with oil. In November, he spent $114 on electricity compared to $240 on oil a year earlier; in December he paid $182, compared to $480 the prior year.\\nThe Northeast and the Midwest currently have the higher rates of geothermal adoption. Government buildings in Michigan and schools in Illinois are using geothermal heating systems. Jasper County, Missouri, cut its natural gas budget from $5,400 to $800 after geothermal heating was added to the county courthouse. On the West Coast, where drilling regulations are stricter, it\\'s less common.\\nEuropean countries have been using geothermal to heat residential and commercial buildings for decades. In Sweden, 20 percent of buildings use geothermal heat pumps. China also has a goal to replace 70 million tons of coal with geothermal heating by 2020.\\nLike other renewable sources as they were first being developed, the cost of geothermal has been prohibitive—which is why Dandelion is playing an important role in the U.S., said Ryan Dougherty, chief operating officer for the industry group Geothermal Exchange Organization.\\n\"They are aggressively attacking the number one barrier to broader adoption,\" he said.\\nDandelion recently announced plans for a community-wide geothermal project that could further lower costs for homeowners. It would power homes and buildings in Rhinebeck, New York, with the geothermal loop running several feed below the earth\\'s surface beside the main road, where homeowners could connect to it, avoiding some of the drilling expense.\\nThe tax credit extensions for residential and commercial geothermal heat pump installations should also help. Congress voted to make the credits, which lapsed last year, retroactive to the start of 2017; the credit allows homeowners to get back 30 percent of the cost if the system was installed between 2017 and 2020, then 26 percent in 2021, and 22 percent through 2022.\\n\"This credit reinstatement gives the geothermal heat pump industry a shot in the arm and much needed parity with other renewables,\" said Dougherty, whose Geothermal Exchange Organization has been intensely lobbying Congress since the temporary credits expired. \"It makes geothermal that much more competitive with conventional HVAC technology.\"\\nAs more geothermal system manufacturers enter the market and more homeowners and businesses use it, the costs are expected to decline.\\nGeothermal has also led some homeowners to add other renewable energy sources to take the power bills down even lower. Next year, VanDerlofske plans to install new rooftop solar panels, which will shave even more money off his electricity bills.\\n\"I\\'m really excited about what that will bring,\" he said.'"
      ]
     },
     "execution_count": 66,
     "metadata": {},
     "output_type": "execute_result"
    }
   ],
   "source": []
  },
  {
   "cell_type": "code",
   "execution_count": null,
   "metadata": {},
   "outputs": [],
   "source": []
  }
 ],
 "metadata": {
  "kernelspec": {
   "display_name": "aiml",
   "language": "python",
   "name": "aiml"
  },
  "language_info": {
   "codemirror_mode": {
    "name": "ipython",
    "version": 3
   },
   "file_extension": ".py",
   "mimetype": "text/x-python",
   "name": "python",
   "nbconvert_exporter": "python",
   "pygments_lexer": "ipython3",
   "version": "3.7.3"
  }
 },
 "nbformat": 4,
 "nbformat_minor": 2
}
