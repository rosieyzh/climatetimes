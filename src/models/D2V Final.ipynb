{
 "cells": [
  {
   "cell_type": "code",
   "execution_count": 1,
   "metadata": {},
   "outputs": [
    {
     "name": "stderr",
     "output_type": "stream",
     "text": [
      "[nltk_data] Downloading package stopwords to\n",
      "[nltk_data]     C:\\Users\\owner\\AppData\\Roaming\\nltk_data...\n",
      "[nltk_data]   Package stopwords is already up-to-date!\n"
     ]
    }
   ],
   "source": [
    "\"\"\"Doc2Vec model on left and right articles. I followed along to the IMDB tutorial from gojomo\"\"\"\n",
    "import utils\n",
    "import pandas as pd\n",
    "import numpy as np"
   ]
  },
  {
   "cell_type": "code",
   "execution_count": 2,
   "metadata": {},
   "outputs": [],
   "source": [
    "#Gets left and right data files\n",
    "df1 = pd.read_csv('../../data/all_left_filtered.csv')\n",
    "df2 = pd.read_csv('../../data/all_right_filtered.csv')"
   ]
  },
  {
   "cell_type": "code",
   "execution_count": 3,
   "metadata": {},
   "outputs": [],
   "source": [
    "articles1 = list(df1['content'])\n",
    "articles2 = list(df2['content'])\n",
    "\n",
    "#Runs the preprocessing method on both articles\n",
    "left = utils.preprocess(articles1)\n",
    "right = utils.preprocess(articles2)"
   ]
  },
  {
   "cell_type": "code",
   "execution_count": 4,
   "metadata": {},
   "outputs": [
    {
     "name": "stdout",
     "output_type": "stream",
     "text": [
      "['Key', 'event', '1988', 'EPA', 'decided', 'classify', 'oil', 'gas', 'waste', 'non'] 0\n"
     ]
    }
   ],
   "source": [
    "def merge(list1, list2): \n",
    "    \"\"\"Merge lists together into tuple\"\"\"\n",
    "    merged_list = tuple(zip(list1, list2))  \n",
    "    return merged_list \n",
    "\n",
    "denial0 = list(df1['denial?'])\n",
    "denial1 = list(df2['denial?'])\n",
    "\n",
    "left_tuples = merge(left, denial0)\n",
    "right_tuples = merge(right, denial1)\n",
    "all_articles = left_tuples+right_tuples\n",
    "print(all_articles[0][0][0:10], all_articles[0][1])"
   ]
  },
  {
   "cell_type": "code",
   "execution_count": 5,
   "metadata": {},
   "outputs": [
    {
     "name": "stdout",
     "output_type": "stream",
     "text": [
      "LabelledDocument(words=['Key', 'event', '1988', 'EPA', 'decided', 'classify', 'oil', 'gas', 'waste', 'non', 'hazardous', 'even', 'though', 'contains', 'dangerous', 'chemicals', 'small', 'town', 'Nordheim', 'Texas', 'residents', 'trying', 'stop', 'commercial', 'oil', 'gas', 'waste', 'facility', 'proposed', 'large', 'plot', 'land', 'less', 'mile', 'away', 'worry', 'Texas', 'wind', 'carry', 'toxic', 'air', 'emissions', 'town', 'across', 'campus', 'local', 'school', 'residents', 'effort', 'hampered', 'U', 'Environmental', 'Protection', 'Agency', 'decision', '1988', 'classify', 'oil', 'gas', 'waste', 'non', 'hazardous', 'even', 'though', 'contains', 'chemicals', 'including', 'benzene', 'known', 'cause', 'health', 'problems', 'industry', 'lobbied', 'hard', 'non', 'hazardous', 'classification', 'arguing', 'cost', 'treating', 'waste', 'hazardous', 'would', 'exorbitant', 'look', 'exemption', 'came', 'recent', 'effort', 'repeal', 'READ', 'Open', 'Pits', 'Offer', 'Cheap', 'Disposal', 'Fracking', 'Sludge', 'Health', 'Worries', 'Mount', 'Click', 'enlarge'], tags=[0], denial=0)\n",
      "Wall time: 405 ms\n"
     ]
    }
   ],
   "source": [
    "%%time\n",
    "\n",
    "import gensim\n",
    "from gensim.models.doc2vec import TaggedDocument\n",
    "from collections import namedtuple\n",
    "\n",
    "# this data object class suffices as a `TaggedDocument` (with `words` and `tags`) \n",
    "LabelledDocument = namedtuple('LabelledDocument', 'words tags denial')\n",
    "\n",
    "alldocs = []\n",
    "\n",
    "#Converts each article to a TaggedDocument and puts in the alldocs list\n",
    "for i in range(len(all_articles)):\n",
    "    words = all_articles[i][0]\n",
    "    denial = all_articles[i][1]\n",
    "    tags = [i]\n",
    "    alldocs.append(LabelledDocument(words, tags, denial))\n",
    "    \n",
    "print(alldocs[0])"
   ]
  },
  {
   "cell_type": "code",
   "execution_count": 6,
   "metadata": {},
   "outputs": [],
   "source": [
    "#Shuffles the doclist\n",
    "from random import shuffle\n",
    "doc_list = alldocs[:]  \n",
    "shuffle(doc_list)"
   ]
  },
  {
   "cell_type": "code",
   "execution_count": 7,
   "metadata": {},
   "outputs": [
    {
     "name": "stdout",
     "output_type": "stream",
     "text": [
      "Doc2Vec(\"alpha=0.05\",dm/m,d100,n5,w10,mc2,t4) vocabulary scanned & state initialized\n",
      "Wall time: 14.5 s\n"
     ]
    }
   ],
   "source": [
    "%%time\n",
    "from gensim.models import Doc2Vec\n",
    "import gensim.models.doc2vec\n",
    "from collections import OrderedDict\n",
    "import multiprocessing\n",
    "\n",
    "cores = multiprocessing.cpu_count()\n",
    "assert gensim.models.doc2vec.FAST_VERSION > -1, \"This will be painfully slow otherwise\"\n",
    "\n",
    "#Creates model\n",
    "# PV-DM w/ default averaging; a higher starting alpha may improve CBOW/PV-DM modes\n",
    "model = Doc2Vec(dm=1, vector_size=100, window=10, negative=5, hs=0, min_count=2, sample=0,\n",
    "                epochs=20, workers=cores, alpha=0.05, comment='alpha=0.05')\n",
    "\n",
    "model.build_vocab(alldocs)\n",
    "print(\"%s vocabulary scanned & state initialized\" % model)"
   ]
  },
  {
   "cell_type": "code",
   "execution_count": 8,
   "metadata": {},
   "outputs": [
    {
     "name": "stdout",
     "output_type": "stream",
     "text": [
      "Training Doc2Vec(\"alpha=0.05\",dm/m,d100,n5,w10,mc2,t4)\n",
      "Wall time: 8min 46s\n"
     ]
    }
   ],
   "source": [
    "print(\"Training %s\" % model)\n",
    "%time model.train(doc_list, total_examples=len(doc_list), epochs=model.epochs)"
   ]
  },
  {
   "cell_type": "code",
   "execution_count": 12,
   "metadata": {},
   "outputs": [
    {
     "name": "stdout",
     "output_type": "stream",
     "text": [
      "TARGET (1100): «Seventeen countries home 25 global population facing extremely high water stress according World Resources Institute research non profit Several drought stricken places around world experienced water crises recent years populated cities like Cape Town Sao Paolo Chennai inching toward Day Zero day taps run dry water longer available 17 countries facing water risk India Middle East North Africa agriculture industry municipalities sucking 80 available surface groundwater every year according WRI Aqueduct Water Risk Atlas tool ranks water stress drought risk riverine flood risk across 189 countries means even small dry shocks nonprofit says likely increase due climate change produce dire consequences Water stress biggest crisis one talking WRI president CEO Dr Andrew Steer said statement consequences plain sight form food insecurity conflict migration financial instability water stressed regions Earth Middle East North Africa also known MENA region home 12 17 risk countries region could experience greatest economic losses climate related water scarcity 6 14 GDP 2050 World Bank found One possible solution could harness wastewater area 82 reused generate new source clean water India ranks 13th Aqueduct list water stressed countries three times population 16 countries combined according WRI Chennai southeast India danger reservoirs drying Northern India faces severe groundwater depletion according WRI recent water crisis Chennai gained global attention various areas India experiencing chronic water stress well said Shashi Shekhar former secretary India Ministry Water Resources senior fellow WRI India India manage water risk help reliable robust data pertaining rainfall surface groundwater develop strategies strengthen resilience Indian government taking critical steps alleviate crisis including placing water issues including supply drinking water sanitation one government umbrella WRI said country also pursue efficient irrigation collect store rainwater conserve restore lakes floodplains groundwater recharge areas billion people currently live water scarce regions many 3 5 billion could experience water scarcity 2025 according WRI Smaller pockets extreme water stress even occur countries relatively low water stress overall Global water crises stemming drought Increasing populations degrade freshwater coastal aquatic ecosystems WRI found global water withdrawals doubled since 1960s due growing demand signs slowing Water stress poses threats human lives livelihoods business stability poised worsen unless countries act according WRI»\n",
      "\n",
      "SIMILAR/DISSIMILAR DOCS PER MODEL Doc2Vec(\"alpha=0.05\",dm/m,d100,n5,w10,mc2,t4):\n",
      "\n",
      "MOST (513, 0.6645690202713013): «UNITED NATIONS World Bank U N sounding alarm global water crisis joint report released Wednesday says 40 percent world population affected water scarcity report based two years research says 700 million people risk displaced intense water scarcity 2030 two billion people compelled drink unsafe water 4 5 billion people safely managed sanitation services ecosystems life based food security energy sustainability public health jobs cities risk water managed today World Bank Group President Jim Yong Kim said Climate Change world longer afford take water granted said wars 21st century may fought water scientists policymakers argue demand fresh drinking water drink grow food surged 60 Minutes correspondent Lesley Stahl reported 2014 problem gotten worse presenting new report Prime Minister Mark Rutte Netherlands said must work tackle global water crises option innovative solutions today creative minds safeguard future generations come Rutte said said freshwater shortages increasing problems water many like intense droughts caused climate change one parts East Africa experiencing Dan Shepard information officer U N Department Public Information told CBS News water mismanagement allocation inadequate infrastructure South Africa Cape Town water around may first major city run city prepared weeks Day Zero taps turned authorities said Day Zero may happen 2019 thanks conservation efforts one leaders issuing Wednesday report South Africa President Cyril Ramaphosa said single opportunity change narrative water acting timeously pursuit promising future better world never face scenario last single drop water U also trying cope shortages Canada scientists warned several areas alert»\n",
      "\n",
      "MEDIAN (5175, 0.1796824038028717): «think pollution New York Los Angeles Detroit scary consider Arctic indigenous peoples often levels persistent organic pollutants POPs blood breast milk 10 times higher residents major American cities Individuals living near industrial hubs expect bioaccumulate certain amount toxic chemicals aboriginal peoples living near Arctic Circle thousands miles sources chemicals levels astonishing disturbing pollution result scientists call grasshopper effect transboundary pollution dispersing point origin driven wind volatilizes comes earth oceans thousands miles away Arctic indications levels POPs increasing dramatically Arctic says Pamela K Miller executive director Alaska Community Action Toxics warming planet certainly warming Arctic going enhance mobilization transport chemicals Arctic many chemical pollutants like POPs volatile higher temperatures production developed nations near equator allows vaporize transported prevailing winds toward cooler Arctic condense particulates snowflakes raindrops fall earth global warming increases chemicals volatize readily atmosphere Warmer surface temperatures land oceans alter prevailing winds blowing equator north hemispheres alteration atmospheric circulation patterns first documented 2001 leads even warmer air Arctic negative feedback loop get worse Earth temperature rises June 1 Arctic Ocean sea ice cover 1979 2000 average Due consumer driven excesses elsewhere PBDEs doubling Arctic every seven years Marla Cone writes Silent Snow likely true perfluorinated chemicals well Miller says notes DDT though banned three decades ago still bioaccumulating Arctic causing reproductive harm birds like peregrine falcons fact perfluorinates linked infertility another study ACAT statewide organization aimed achieving environmental health justice likely use drive home message global pollution poisoning one last pristine wildernesses people example Canadian Inuit population 55 700 2000 2006 50 485 Inuit considered one stable Canadian First Nation tribes groups First Nation Nunavut Nunavik Anishanaabe Cree similar even dramatic decline populations diminished poverty side effects climate change displacement persistence chemical pollutants many cases exceed national international health standards safe exposure latter category alone responsible many reproductive failures gender imbalances thyroid problems immune system failures behavioral abnormalities diabetes cancers birth defects among Arctic indigenous people Nunavut ratio deaths live births 15 3 per 1000 almost three times national average 2008 study Alaska State Department Public Health found birth defects among indigenous peoples two one half times whites previous study UN Arctic Monitoring Assessment Program shows rate gender imbalances among indigenous peoples severely skewed serve red flag future reproductive health nations nowhere apparent among Aamjiwnaang First Nation female births 2006 outnumbered male births two one pattern started 1993 issues began garner international attention early 1990s efforts prevent POPs pollution get underway 1998 100 nations gathered Montreal auspices United Nations draft treaty banning controlling lethal persistent chemicals Stockholm Convention Persistent Organic Pollutants POPs Treaty endorsed 2001 finally ratified 2004 One central feature POPs Treaty protocol adding pollutants accounts United States continued reluctance participate truly effective way Former President George W Bush signed treaty U first line force concession requiring treaty focus initially old chemicals already banned economic insignificance industry irrelevant Currently 162 nations participate POPs Treaty meeting last month Geneva aimed phasing planet dangerous chemicals attendees greeted indigenous peoples Arctic drumming singing traditional songs reminder aboriginal peoples well polar bears threatened species Stephanie Hendricks member ACAT notes indigenous peoples traditional food sources whales seals fish caribou laden POPs foods inaccessible expensive milk 14 16 gallon choice ultimately slow death chemicals equally slow death hunger Miller expands problem observing evidence new Arctic monitoring assessment program chemicals like endosulfan going increase concentration marine environment result declining sea ice offers surface transfer atmosphere oceans particular concern know Canadian Arctic circumpolar indigenous people rely large extent marine mammals diet credit attendees recent POPs meeting added nine new chemicals previous list 12 also known Dirty Dozen slated removal phaseout also reiterated concerns DDT continue used poorer countries defend malaria diseases U representatives even came meeting ready support ban lindane highly toxic pesticide affects central nervous system sudden surprising switch policy However chemical still received pharmaceutical use exemption India request preamble Stockholm Convention acknowledges unique vulnerability Arctic indigenous peoples yet U continues refuse ratify treaty Precautionary Principle intact chemical industry lobbying influenced Congressional voting years accord ever achieved several powerful industry lobbies also working prevent action slow global warming exacerbating problem Miller advocates realize long road ahead extreme influence chemical lobby chemicals showing remote ecosystems like Arctic way thinking injustice people Circumpolar Arctic stopped See also Arctic Nations Order Investigation Black Carbon Blamed Significant Ice Melt Chevron Pollution Case Empowers Indigenous Groups Beyond Amazon Shell Settles Human Rights Case Nigeria 15 5 Million Scientists Sound Alarm Arctic Melting Abrupt Climate Change AGU Meeting Photo Ansgar Walk»\n",
      "\n",
      "LEAST (13926, -0.14900431036949158): «confirmation bias affects Top Men department modern equivalent Mike Nature Trick WUWT readers probably seen various graphical depictions temperature coming Dr Ed Hawkins climate lab book website publishing spirals bars depictions rising temperatures example click animation Figure 1 Spiral temperature visualization 1850 2017 Dr Ed Hawkins Hawkins garden variety graphical tinkerer climate modeler National Centre Atmospheric Science NCAS University Reading IPCC AR5 Contributing Author soon shepherding IPCC AR6 lead author visualizations gotten lot notice Millions views social media estimate Plus Hawkins boasts original version quickly went viral seen millions times facebook twitter version even used opening ceremony Rio Olympics Recently Twitter campaign called MetsUnite TV meteorologists weathercasters around world sported ties pendants coffee mugs bring attention global warming using one Hawkins temperature visualizations pointed hypocrisy like many since Hawkins producing dramatized visualizations pay much attention check accuracy seen many exaggerations climate crusaders simply lost noise Millions others apparently notice either including climate science peers Otherwise heard said Enter serendipity via social media One person pay attention asked Dr Roy Spencer similar spiral graph depicting temperature increase writes website year ago Finnish climate researcher Antti Lipponen posted new way visualize global warming animation called temperature circle displays GISS land temperature data colored bars country world radiating circle temperature country goes colored bar changes blue bar red bar gets longer wider pay much attention temperature circle time seemed rather gimmicky yesterday asked social media watched video 163 000 views Twitter 175 000 views Youtube impact people perception evidenced recent Youtube comments Excellent presentation large mass data denialists invent reasons ignore toast among scariest presentations ever seen Yes kids thinking animation minute quickly became apparent warming displayed way looks dramatic misleading best way describe issue example Assume countries world 2 deg C normal later time warmed 2 deg C normal way temperature circle plotting technique would display ignore displayed year real data focus blue red segments superimposed Note coldest temperatures smallest area covered blue warmest temperatures largest area covered red even though absolute sizes 2 deg 2 deg departures average consider deceptive display technique cause linear rate warming appear like non linearly increasing accelerating perceived warming goes square actual temperature increase fact even warming slowly decelerating would still look like accelerating graphics artist playing around data various kinds display software might able excuse artistic license fact climate researcher would well surprising say least right presentation deceptive due geometry used Dr Spencer sent email notifying number climate skeptics findings including immediately wrote back Note coldest temperatures smallest area covered blue warmest temperatures largest area covered red Based reasoning true similar animation https www climate lab book ac uk sure looks like Also done climate researcher Ed Hawkins original https www climate lab book ac uk issue surface area given warmer colors makes warmer colors dominate visually Dr Spencer responded sort spirals display exaggerates linearly line segments increase length warming according Pi r temperature circle exaggeration causes displayed area increase nonlinearly Pi r squared Dr Spencer also added discussion Imagine spiral temperature scale increasing inward case spirals would get smaller warming would much less dramatic perception warming depend upon whether scale reversed evidence new display techniques contrived whip alarm since recent Gallup poll reminds us people concerned warming rates small feel lifetimes see Hawkins produce spiral reverse would kill effect visualization making far less alarming Confirmation bias work Hawkins spiral graph uses colored line segments much like Lipponen oriented perpendicular radius circle warmer temperatures near edge radius increases segments get longer Hawkins also uses temperature scale color lines using color scale called viridis course warmer temperatures tend depicted yellows oranges cooler temperatures blues violets Hawkins states colours mean colours represent time Purple early years blue green yellow recent years colour scale used called viridis graphics made MATLAB color choice Hawkins later set problems let concentrate geometry trick normally see linear graph data points weight Figure 1 Source Met Office https www metoffice gov uk research news 2018 global surface temperatures 2017 Note HadCRUT4 data shown linear fashion temperature increase comes 1950 Hold thought Spencer pointed Lipponen circular graph due way surface area increases exponentially radius far surface area given warmer temperatures cooler ones Anybody taken basic geometry primary school knows Figure 2 Source Watts plotted calculated data seen Figure 2 surface area increases exponentially increasing radius illustrate basic geometry decided take measurements Hawkins spiral graph Since Hawkins spiral graph reference scale way could get something measure radius import graph graphics program apply pixel scale done image frame 1 animation listed values Figure 3 Ed Hawkins spiral global temperature graph ring values measured pixels give radius values Due circle lines multiple pixels wide values 2 pixels Image measured annotated Watts Click enlarge Hawkins provide 0 5 C 1 0 C circle values offsets zero account visually possibility negative anomaly values bit different work done Table 1 Figure 3 values TABLE 1 Values temperature radius offsets surface area Hawkins spiral plot Clearly lines expand get longer Hawkins spiral graph extend larger surface areas lines longer Humans viewing lines massed together tend average visually assigning weight cover surface area circle visual trick one peculiar Hawkins nowhere else climate science see linear graph temperature turned exponential representation suspect Lipponen representation might inspired Hawkins illustrate Hawkins spiral circle Figure 4 linear values exponentially increasing surface area value graph using pixel values measured including 160 pixel offset zero handle negative anomaly possibilities polynomial curve fit also added illustrate exponential increase surface area values closest circumference circle Figure 4 Values temperature vs surface area blue calculated radii measured Hawkins base spiral Figure 3 Polynomial curve fit data points added red looks lot like hockey stick first plotted Figure 4 saw blue line follow plotted path pure circle seen Figure 2 thought made sort mistake looked data find errors way measured threw started came result conclusion Hawkin 0 0 1 5 2 0 reference circles accurate suspect hand generated overlay certainly follow surface area increasing radii pure circle seen figure 2 Either used sort non linear scale temperature obvious trying reverse engineer work original MatLAB data plots say sure erred someplace measuring original graph please point comments one thing certain plotting HadCRUT 4 6 data using circle spiral method weighted post 1950 data far heavily data 1850 1950 line length well surface area pixels make lines cover circle Knowing clearly obvious looking spiral graph endpoint 2017 Figure 5 Hawkins spiral graph end frame 2017 Note earlier lighter blues pastel magentas covered recent temperatures Note also greenish yellows prominent visual elements color surface area covered figure 5 note earlier lighter blues pastel magentas covered recent temperatures Note also greenish yellows prominent visual elements color surface area covered basically Mike Nature Trick recent graphic elements post 1950 cover ones really want see PLUS spiral presentation visually weights recent temperature data far heavily earlier data due increased surface area lines created recent data double whammy visualization bias Finally remember earlier said color choice Hawkins later set problems problem human eye perceive colors linearly graph clear illustrates Figure 6 three curves figure shows normalized response average human eye various amounts ambient light shift sensitivity occurs two types photoreceptors called cones rods responsible eye response light curve right shows eye response normal lighting conditions called photopic response cones respond light conditions Source Robinson J Schmidt J Fluorescent Penetrant Sensitivity Removability Eye See Fluorometer Measure Materials Evaluation Vol 42 8 July 1984 pp 1029 1034 Figure 6 https www nde ed org EducationResources CommunityCollege PenetrantTest Introduction lightresponse htm colors figure 6 clearly see end frame Hawkin spiral graph mostly green yellow range cooler blues magentas covered visual color impact fire trucks emergency vehicles painted yellowish green makes visible traffic easier avoid Figure 7 Fire trucks painted match color sensitivity human eye red fire trucks days past easy see documented study http www apa org action resources research action lime aspx Added longer lines near edge circle longer makes appear animation moving faster due increased length accelerating true due color scale choice faked acceleration animation TRIPLE WHAMMY QUADRUPLE WHAMMY visualization bias Hawkins graph good science simple visual propaganda Ed Hawkins retract opinion Dr Spencer said consider deceptive Dr Hawkins probably retract since learned time climate science often care much accuracy presentations messaging succeeded pushing alarming message also exceedingly stubborn like shown wrong Even Hawkins retract impossible put genie back bottle since graph shared millions social media posts tweets climate skeptic world fiasco live forevermore known Hawkins spiral trick»\n",
      "\n"
     ]
    }
   ],
   "source": [
    "import random\n",
    "\n",
    "#Gets most similar, somewhat similar and least similar articles compared to a target article\n",
    "doc_id = np.random.randint(model.docvecs.count)  # pick random doc, re-run cell for more examples\n",
    "sims = model.docvecs.most_similar(doc_id, topn=model.docvecs.count)  # get *all* similar documents\n",
    "\n",
    "print(u'TARGET (%d): «%s»\\n' % (doc_id, ' '.join(alldocs[doc_id].words)))\n",
    "print(u'SIMILAR/DISSIMILAR DOCS PER MODEL %s:\\n' % model)\n",
    "\n",
    "for label, index in [('MOST', 0), ('MEDIAN', len(sims)//2), ('LEAST', len(sims) - 1)]:\n",
    "    print(u'%s %s: «%s»\\n' % (label, sims[index], ' '.join(alldocs[sims[index][0]].words)))"
   ]
  },
  {
   "cell_type": "code",
   "execution_count": 13,
   "metadata": {},
   "outputs": [
    {
     "name": "stderr",
     "output_type": "stream",
     "text": [
      "c:\\users\\owner\\appdata\\local\\programs\\python\\python37\\lib\\site-packages\\smart_open\\smart_open_lib.py:398: UserWarning: This function is deprecated, use smart_open.open instead. See the migration notes for details: https://github.com/RaRe-Technologies/smart_open/blob/master/README.rst#migrating-to-the-new-open-function\n",
      "  'See the migration notes for details: %s' % _MIGRATION_NOTES_URL\n"
     ]
    },
    {
     "name": "stdout",
     "output_type": "stream",
     "text": [
      "Model Saved\n"
     ]
    }
   ],
   "source": [
    "#Saves model for later\n",
    "model.save(\"d2v.model\".format(i+1))\n",
    "print(\"Model Saved\")"
   ]
  },
  {
   "cell_type": "code",
   "execution_count": 14,
   "metadata": {},
   "outputs": [],
   "source": [
    "model_vectors = []\n",
    "model_labels = []\n",
    "\n",
    "#Putting vectors in one array, labels in another\n",
    "for i in range(len(alldocs)):\n",
    "    model_vectors.append(model.docvecs[i])\n",
    "    model_labels.append(alldocs[i].denial)\n",
    "    \n",
    "import pickle\n",
    "\n",
    "with open('model_vectors', 'wb') as fp:\n",
    "    pickle.dump(model_vectors, fp)\n",
    "    \n",
    "with open('model_labels', 'wb') as fp:\n",
    "    pickle.dump(model_labels, fp)"
   ]
  }
 ],
 "metadata": {
  "kernelspec": {
   "display_name": "Python 3",
   "language": "python",
   "name": "python3"
  },
  "language_info": {
   "codemirror_mode": {
    "name": "ipython",
    "version": 3
   },
   "file_extension": ".py",
   "mimetype": "text/x-python",
   "name": "python",
   "nbconvert_exporter": "python",
   "pygments_lexer": "ipython3",
   "version": "3.7.3"
  }
 },
 "nbformat": 4,
 "nbformat_minor": 2
}
