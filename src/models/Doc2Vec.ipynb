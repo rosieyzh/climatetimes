{
 "cells": [
  {
   "cell_type": "code",
   "execution_count": 3,
   "metadata": {},
   "outputs": [],
   "source": [
    "\"\"\"Doc2Vec model on articles on left and right\"\"\"\n",
    "import utils\n",
    "import pandas as pd\n",
    "import numpy as np"
   ]
  },
  {
   "cell_type": "code",
   "execution_count": 5,
   "metadata": {},
   "outputs": [
    {
     "data": {
      "text/html": [
       "<div>\n",
       "<style scoped>\n",
       "    .dataframe tbody tr th:only-of-type {\n",
       "        vertical-align: middle;\n",
       "    }\n",
       "\n",
       "    .dataframe tbody tr th {\n",
       "        vertical-align: top;\n",
       "    }\n",
       "\n",
       "    .dataframe thead th {\n",
       "        text-align: right;\n",
       "    }\n",
       "</style>\n",
       "<table border=\"1\" class=\"dataframe\">\n",
       "  <thead>\n",
       "    <tr style=\"text-align: right;\">\n",
       "      <th></th>\n",
       "      <th>title</th>\n",
       "      <th>author</th>\n",
       "      <th>date</th>\n",
       "      <th>content</th>\n",
       "      <th>denial?</th>\n",
       "      <th>length</th>\n",
       "    </tr>\n",
       "  </thead>\n",
       "  <tbody>\n",
       "    <tr>\n",
       "      <th>0</th>\n",
       "      <td>How Frack Waste Became Exempt From Regulation</td>\n",
       "      <td>Zahra Hirji and Paul Horn</td>\n",
       "      <td>Oct 6, 2014</td>\n",
       "      <td>Key event was in 1988, when the EPA decided to...</td>\n",
       "      <td>0</td>\n",
       "      <td>1000</td>\n",
       "    </tr>\n",
       "    <tr>\n",
       "      <th>1</th>\n",
       "      <td>Richmond, California: 2 Arrested Protesting Ki...</td>\n",
       "      <td>NaN</td>\n",
       "      <td>Aug 01, 2017</td>\n",
       "      <td>¶Back in the U.S., two protesters in Richmond,...</td>\n",
       "      <td>0</td>\n",
       "      <td>1000</td>\n",
       "    </tr>\n",
       "    <tr>\n",
       "      <th>2</th>\n",
       "      <td>Attenborough Warns Humans Are “Exterminating W...</td>\n",
       "      <td>NaN</td>\n",
       "      <td>Jan 23, 2019</td>\n",
       "      <td>¶In Davos, Switzerland, global elites are gath...</td>\n",
       "      <td>0</td>\n",
       "      <td>1000</td>\n",
       "    </tr>\n",
       "    <tr>\n",
       "      <th>3</th>\n",
       "      <td>Paul Krugman on Climate Change’s Surprising An...</td>\n",
       "      <td>Janet Allon</td>\n",
       "      <td>June 23, 2014</td>\n",
       "      <td>¶On the one hand, Paul Krugman gives former Tr...</td>\n",
       "      <td>0</td>\n",
       "      <td>1001</td>\n",
       "    </tr>\n",
       "    <tr>\n",
       "      <th>4</th>\n",
       "      <td>New Threshold: 2015 Saw Average Carbon Dioxide...</td>\n",
       "      <td>NaN</td>\n",
       "      <td>Oct 25, 2016</td>\n",
       "      <td>¶In Canada, 99 people were detained by police ...</td>\n",
       "      <td>0</td>\n",
       "      <td>1002</td>\n",
       "    </tr>\n",
       "  </tbody>\n",
       "</table>\n",
       "</div>"
      ],
      "text/plain": [
       "                                               title  \\\n",
       "0      How Frack Waste Became Exempt From Regulation   \n",
       "1  Richmond, California: 2 Arrested Protesting Ki...   \n",
       "2  Attenborough Warns Humans Are “Exterminating W...   \n",
       "3  Paul Krugman on Climate Change’s Surprising An...   \n",
       "4  New Threshold: 2015 Saw Average Carbon Dioxide...   \n",
       "\n",
       "                      author           date  \\\n",
       "0  Zahra Hirji and Paul Horn    Oct 6, 2014   \n",
       "1                        NaN   Aug 01, 2017   \n",
       "2                        NaN   Jan 23, 2019   \n",
       "3                Janet Allon  June 23, 2014   \n",
       "4                        NaN   Oct 25, 2016   \n",
       "\n",
       "                                             content  denial?  length  \n",
       "0  Key event was in 1988, when the EPA decided to...        0    1000  \n",
       "1  ¶Back in the U.S., two protesters in Richmond,...        0    1000  \n",
       "2  ¶In Davos, Switzerland, global elites are gath...        0    1000  \n",
       "3  ¶On the one hand, Paul Krugman gives former Tr...        0    1001  \n",
       "4  ¶In Canada, 99 people were detained by police ...        0    1002  "
      ]
     },
     "execution_count": 5,
     "metadata": {},
     "output_type": "execute_result"
    }
   ],
   "source": [
    "# utils.preprocess()\n",
    "# Output - list of tokenized words for each title/article\n",
    "file_name = 'all_left_filtered'\n",
    "df = pd.read_csv('../../data/{}.csv'.format(file_name))\n",
    "df.head()"
   ]
  },
  {
   "cell_type": "code",
   "execution_count": 9,
   "metadata": {},
   "outputs": [
    {
     "data": {
      "text/plain": [
       "5"
      ]
     },
     "execution_count": 9,
     "metadata": {},
     "output_type": "execute_result"
    }
   ],
   "source": []
  }
 ],
 "metadata": {
  "kernelspec": {
   "display_name": "Python 3",
   "language": "python",
   "name": "python3"
  },
  "language_info": {
   "codemirror_mode": {
    "name": "ipython",
    "version": 3
   },
   "file_extension": ".py",
   "mimetype": "text/x-python",
   "name": "python",
   "nbconvert_exporter": "python",
   "pygments_lexer": "ipython3",
   "version": "3.7.3"
  }
 },
 "nbformat": 4,
 "nbformat_minor": 2
}
