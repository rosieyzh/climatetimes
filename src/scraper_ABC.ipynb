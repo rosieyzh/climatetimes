{
 "cells": [
  {
   "cell_type": "code",
   "execution_count": 1,
   "metadata": {},
   "outputs": [],
   "source": [
    "import requests\n",
    "from bs4 import BeautifulSoup\n",
    "import pandas as pd\n",
    "import re"
   ]
  },
  {
   "cell_type": "code",
   "execution_count": 15,
   "metadata": {},
   "outputs": [],
   "source": [
    "r = requests.get(\"https://abcnews.go.com/alerts/climate-change\")\n",
    "soup_links = BeautifulSoup(r.text, 'html.parser')\n",
    "links_results = soup_links.findAll('a', {\"class\":\"colors__hoverBlack--3n67Z\"})\n",
    "\n",
    "links=[]\n",
    "for result in links_results:\n",
    "    links.append(result['href'])\n",
    "    \n",
    "links = links[18:]"
   ]
  },
  {
   "cell_type": "code",
   "execution_count": 19,
   "metadata": {},
   "outputs": [],
   "source": [
    "abc_articles=[]\n",
    "\n",
    "for link in links:\n",
    "    sample=requests.get(link)\n",
    "    soup = BeautifulSoup(sample.text, 'html.parser')\n",
    "    articleBody = soup.findAll('p', itemprop=\"articleBody\")\n",
    "    s=\"\"\n",
    "    for t in articleBody:\n",
    "        s+=t.text\n",
    "    abc_articles.append(s)"
   ]
  },
  {
   "cell_type": "code",
   "execution_count": 22,
   "metadata": {},
   "outputs": [],
   "source": [
    "abc_articles = list(filter(None, abc_articles))"
   ]
  },
  {
   "cell_type": "code",
   "execution_count": 24,
   "metadata": {},
   "outputs": [
    {
     "data": {
      "text/plain": [
       "21"
      ]
     },
     "execution_count": 24,
     "metadata": {},
     "output_type": "execute_result"
    }
   ],
   "source": [
    "len(abc_articles)"
   ]
  },
  {
   "cell_type": "code",
   "execution_count": 26,
   "metadata": {},
   "outputs": [],
   "source": [
    "df = pd.DataFrame(abc_articles, columns=['article']).drop_duplicates()\n",
    "df['denial?'] = [0]*len(df.index)\n",
    "#save df to csv\n",
    "df.to_csv('../data/data_abc_articles.csv', index=False)"
   ]
  },
  {
   "cell_type": "code",
   "execution_count": 30,
   "metadata": {},
   "outputs": [],
   "source": [
    "abc_articles_p=[]\n",
    "\n",
    "for link in links:\n",
    "    sample=requests.get(link)\n",
    "    soup = BeautifulSoup(sample.text, 'html.parser')\n",
    "    articleBody = soup.findAll('p', itemprop=\"articleBody\")\n",
    "    for t in articleBody:\n",
    "        abc_articles_p.append(t.text)"
   ]
  },
  {
   "cell_type": "code",
   "execution_count": 31,
   "metadata": {},
   "outputs": [
    {
     "name": "stdout",
     "output_type": "stream",
     "text": [
      "354\n"
     ]
    }
   ],
   "source": [
    "abc_articles_p = list(filter(None, abc_articles_p))\n",
    "print(len(abc_articles_p))"
   ]
  },
  {
   "cell_type": "code",
   "execution_count": 32,
   "metadata": {},
   "outputs": [
    {
     "data": {
      "text/plain": [
       "['\\nHeat warnings slammed much of the eastern half of the U.S. -- from Kansas to Ohio and North Carolina to New Hampshire -- last month.\\n',\n",
       " '\\nOn July 19, several heat index readings came close to setting records throughout the eastern region.\\n',\n",
       " '\\nSome of the temperatures the following day, in places like New York City and Philadelphia, were expected to be the hottest in several years.\\n',\n",
       " '\\nIn Europe, a heat wave in July produced the highest-ever temperatures in Belgium and Germany, while the Netherlands saw its hottest day in 75 years, according to The Associated Press.',\n",
       " \"\\nCarbon dioxide levels in Earth's atmosphere rose to levels the planet hasn't seen in 800,000 years in 2018, underscoring the impact of irreversible -- and increasing -- environmental damage due to human activity, according to a new federal report.\\n\",\n",
       " \"\\nCarbon dioxide and other major greenhouse gases, including methane, and nitrous oxide, continued their rapid increase last year, while global sea level rose to its highest on record, according to the American Meteorological Society's State of the Climate in 2018 report, released on Monday.\\n\",\n",
       " '\\nGlobal average sea level rose to a new record high in 2018, rising for the seventh consecutive year, according to the report, which was compiled by 470 scientists in 60 countries.',\n",
       " '\\nGlobal average sea level was about 3.2 inches higher than the 1993 average -- the year that marks the beginning of the satellite altimeter record. Global sea level is rising at an average rate of 1.2 inches per decade.',\n",
       " \"\\nGlobally, upper ocean heat content reached record highs in 2018. Oceans absorb more than 90% of Earth's excess heat from global warming and sea ice was at a near-record low, the report said.\\n\",\n",
       " '\\n\"This places 2018 as having the fourth warmest annual global temperature since records began in the mid- to late 1800s. The four warmest years on record have all occurred since 2015,\" the American Meteorological Society, led by the U.S. National Oceanic and Atmospheric Administration, said in a statement. \"There were also more high, and fewer low, temperature extremes than in nearly the entire 68-year extremes record.\"']"
      ]
     },
     "execution_count": 32,
     "metadata": {},
     "output_type": "execute_result"
    }
   ],
   "source": [
    "abc_articles_p[50:60]"
   ]
  },
  {
   "cell_type": "code",
   "execution_count": 33,
   "metadata": {},
   "outputs": [],
   "source": [
    "df = pd.DataFrame(abc_articles, columns=['text']).drop_duplicates()\n",
    "df['denial?'] = [0]*len(df.index)\n",
    "#save df to csv\n",
    "df.to_csv('../data/data_abc.csv', index=False)"
   ]
  },
  {
   "cell_type": "code",
   "execution_count": null,
   "metadata": {},
   "outputs": [],
   "source": []
  }
 ],
 "metadata": {
  "kernelspec": {
   "display_name": "aiml",
   "language": "python",
   "name": "aiml"
  },
  "language_info": {
   "codemirror_mode": {
    "name": "ipython",
    "version": 3
   },
   "file_extension": ".py",
   "mimetype": "text/x-python",
   "name": "python",
   "nbconvert_exporter": "python",
   "pygments_lexer": "ipython3",
   "version": "3.7.3"
  }
 },
 "nbformat": 4,
 "nbformat_minor": 2
}
