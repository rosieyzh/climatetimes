{
 "cells": [
  {
   "cell_type": "code",
   "execution_count": 1,
   "metadata": {},
   "outputs": [],
   "source": [
    "import requests\n",
    "from bs4 import BeautifulSoup\n",
    "import pandas as pd\n",
    "import re"
   ]
  },
  {
   "cell_type": "code",
   "execution_count": 158,
   "metadata": {},
   "outputs": [],
   "source": [
    "def get_links(result_link):\n",
    "    links=[]\n",
    "    r = requests.get(result_link)\n",
    "    soup = BeautifulSoup(r.text, 'html.parser')  \n",
    "    article_results = soup.find(\"div\", {\"class\":\"col-8 nocontent\"})\n",
    "    for ana in article_results.findAll(\"a\"):\n",
    "        if ana.parent.name == \"article\":\n",
    "            links.append(ana['href'])\n",
    "    return links\n",
    "\n",
    "def get_text(article_link):\n",
    "    article=\"\"\n",
    "    r = requests.get(article_link)\n",
    "    soup = BeautifulSoup(r.text, 'html.parser')\n",
    "    col_8 = soup.find(attrs={\"data-page\":\"1\"})\n",
    "    if col_8:\n",
    "        for p in col_8.findAll(\"p\"):\n",
    "            excerpt = p.text.replace(u'\\xa0', u' ')\n",
    "            article = article + \" \" + excerpt\n",
    "    return article"
   ]
  },
  {
   "cell_type": "code",
   "execution_count": 159,
   "metadata": {},
   "outputs": [],
   "source": [
    "articles=[]\n",
    "for i in range(1, 31):\n",
    "    links = get_links(\"https://www.cbsnews.com/feature/climate-change/{}/\".format(i))\n",
    "    for link in links:\n",
    "        articles.append(get_text(link))\n",
    "        "
   ]
  },
  {
   "cell_type": "code",
   "execution_count": 163,
   "metadata": {},
   "outputs": [
    {
     "name": "stdout",
     "output_type": "stream",
     "text": [
      "582\n"
     ]
    }
   ],
   "source": [
    "articles = list(filter(None, articles)) \n",
    "print(len(articles))"
   ]
  },
  {
   "cell_type": "code",
   "execution_count": 165,
   "metadata": {},
   "outputs": [],
   "source": [
    "df = pd.DataFrame(articles, columns=['article']).drop_duplicates()\n",
    "df['denial?'] = [0]*len(df.index)\n",
    "#save df to csv\n",
    "df.to_csv('../data/data_cbs_articles.csv', index=False)"
   ]
  },
  {
   "cell_type": "code",
   "execution_count": 95,
   "metadata": {},
   "outputs": [],
   "source": [
    "text = \" Watch CBSN Live \\n                  By Danielle Garrand\\n               \\nUpdated on:  August 21, 2019 / 5:57 PM\\n      / CBS News\\n     On Monday afternoon\""
   ]
  },
  {
   "cell_type": "code",
   "execution_count": 104,
   "metadata": {},
   "outputs": [
    {
     "name": "stdout",
     "output_type": "stream",
     "text": [
      "      On Monday afternoon\n"
     ]
    }
   ],
   "source": [
    "print(re.sub(r'Watch CBSN Live \\n.*\\n.*\\n(Updated on:.*)?\\n(.*CBS News)?\\n', \"\", text))"
   ]
  },
  {
   "cell_type": "code",
   "execution_count": null,
   "metadata": {},
   "outputs": [],
   "source": []
  }
 ],
 "metadata": {
  "kernelspec": {
   "display_name": "Python 3",
   "language": "python",
   "name": "python3"
  },
  "language_info": {
   "codemirror_mode": {
    "name": "ipython",
    "version": 3
   },
   "file_extension": ".py",
   "mimetype": "text/x-python",
   "name": "python",
   "nbconvert_exporter": "python",
   "pygments_lexer": "ipython3",
   "version": "3.7.3"
  }
 },
 "nbformat": 4,
 "nbformat_minor": 2
}
